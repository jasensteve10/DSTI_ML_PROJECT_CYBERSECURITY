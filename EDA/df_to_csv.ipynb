{
 "cells": [
  {
   "cell_type": "code",
   "execution_count": 10,
   "id": "2caeaa1a-64a5-4bd5-8811-e563d30385a5",
   "metadata": {},
   "outputs": [],
   "source": [
    "#Importing libraries \n",
    "import pandas as pd\n",
    "import numpy as np"
   ]
  },
  {
   "cell_type": "code",
   "execution_count": 12,
   "id": "671afe47-ad95-4504-b78a-e7fa53439f57",
   "metadata": {},
   "outputs": [],
   "source": [
    "df=pd.read_csv(\"C:/Users/Utilisateur/Downloads/Project 1/Project 1/cybersecurity_attacks.csv\")"
   ]
  },
  {
   "cell_type": "code",
   "execution_count": 13,
   "id": "fb150642-ac96-4fb9-bc5f-3285db431e6f",
   "metadata": {},
   "outputs": [],
   "source": [
    "df = df.drop(columns=['Payload Data','Action Taken','Severity Level','User Information','Device Information', 'Network Segment',\n",
    " 'Geo-location Data','Proxy Information','Firewall Logs','IDS/IPS Alerts','Log Source'])\n"
   ]
  },
  {
   "cell_type": "code",
   "execution_count": 20,
   "id": "7086b139-9486-4ff0-89a9-85783074e963",
   "metadata": {},
   "outputs": [],
   "source": [
    "df.to_csv(\"C:/Users/Utilisateur/Downloads/Project 1/csv/csv.csv\")"
   ]
  },
  {
   "cell_type": "code",
   "execution_count": null,
   "id": "6c7970c0-df8f-4e5a-8ebe-8c100cc66687",
   "metadata": {},
   "outputs": [],
   "source": []
  },
  {
   "cell_type": "code",
   "execution_count": null,
   "id": "e4aca92b-0292-4a8c-856c-04928865b486",
   "metadata": {},
   "outputs": [],
   "source": []
  }
 ],
 "metadata": {
  "kernelspec": {
   "display_name": "Python 3 (ipykernel)",
   "language": "python",
   "name": "python3"
  },
  "language_info": {
   "codemirror_mode": {
    "name": "ipython",
    "version": 3
   },
   "file_extension": ".py",
   "mimetype": "text/x-python",
   "name": "python",
   "nbconvert_exporter": "python",
   "pygments_lexer": "ipython3",
   "version": "3.12.7"
  }
 },
 "nbformat": 4,
 "nbformat_minor": 5
}
