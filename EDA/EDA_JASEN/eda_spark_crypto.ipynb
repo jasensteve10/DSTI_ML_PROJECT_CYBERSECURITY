{
 "cells": [
  {
   "cell_type": "markdown",
   "metadata": {},
   "source": [
    "# This script serve as an ETL PIPELINE for Cybersecurity_attack.csv"
   ]
  },
  {
   "cell_type": "markdown",
   "metadata": {},
   "source": [
    "## loading various library "
   ]
  },
  {
   "cell_type": "code",
   "execution_count": 5,
   "metadata": {},
   "outputs": [],
   "source": [
    "from pyspark.sql import SparkSession\n",
    "from pyspark.sql.types import StructType, StructField, StringType, IntegerType, FloatType, TimestampType\n",
    "from pyspark.sql.functions import col, mean, dayofweek, hour, to_timestamp\n",
    "import logging"
   ]
  },
  {
   "cell_type": "markdown",
   "metadata": {},
   "source": [
    "## initializing logging and spark instances"
   ]
  },
  {
   "cell_type": "code",
   "execution_count": 8,
   "metadata": {},
   "outputs": [],
   "source": [
    "logging.basicConfig(level=logging.INFO)\n"
   ]
  },
  {
   "cell_type": "code",
   "execution_count": 9,
   "metadata": {},
   "outputs": [],
   "source": [
    "# Create Spark Session\n",
    "spark = SparkSession.builder.appName(\"CyberSecurityETL_CSV_Parquet\").getOrCreate()"
   ]
  },
  {
   "cell_type": "markdown",
   "metadata": {},
   "source": [
    "## loading the csv into spark dataframe using pyspark "
   ]
  },
  {
   "cell_type": "code",
   "execution_count": 11,
   "metadata": {},
   "outputs": [],
   "source": [
    "# dictionary directly explicity datatype\n",
    "\n",
    "schema = StructType([\n",
    "    StructField(\"Timestamp\", StringType(), True),\n",
    "    StructField(\"Source_IP_Address\", StringType(), True),\n",
    "    StructField(\"Destination_IP_Address\", StringType(), True),\n",
    "    StructField(\"Source_Port\", IntegerType(), True),\n",
    "    StructField(\"Destination_Port\", IntegerType(), True),\n",
    "    StructField(\"Protocol\", StringType(), True),\n",
    "    StructField(\"Packet_Length\", IntegerType(), True),\n",
    "    StructField(\"Packet_Type\", StringType(), True),\n",
    "    StructField(\"Traffic_Type\", StringType(), True),\n",
    "    StructField(\"Payload_Data\", StringType(), True),\n",
    "\n",
    "    StructField(\"Malware_Indicators\", StringType(), True),\n",
    "    StructField(\"Anomaly_Score\", FloatType(), True),\n",
    "    \n",
    "    StructField(\"Alerts/Warnings\", StringType(), True),\n",
    "    StructField(\"Attack_Type\", StringType(), True),\n",
    "    \n",
    "    StructField(\"Attack_Signature\", StringType(), True),\n",
    "    StructField(\"Action_Taken\", StringType(), True),\n",
    "    StructField(\"Severity_Level\", StringType(), True),\n",
    "    StructField(\"User_Information\", StringType(), True),\n",
    "    StructField(\"Device_Information\", StringType(), True),\n",
    "\n",
    "    StructField(\"Network_Segment\", StringType(), True),\n",
    "    StructField(\"Geo-location_Data\", StringType(), True),\n",
    "    StructField(\"Proxy_Information\", StringType(), True),\n",
    "    StructField(\"Firewall_Logs\", StringType(), True),\n",
    "\n",
    "    StructField(\"IDS/IPS_Alerts\", StringType(), True),\n",
    "    StructField(\"Log_Source\", StringType(), True),\n",
    "\n",
    "])"
   ]
  },
  {
   "cell_type": "markdown",
   "metadata": {},
   "source": [
    "## creating  spark dataframe\n"
   ]
  },
  {
   "cell_type": "code",
   "execution_count": 18,
   "metadata": {},
   "outputs": [],
   "source": [
    "df = spark.read.csv(\"cybersecurity_attacks.csv\", header=True,inferSchema=True, sep=\",\")"
   ]
  },
  {
   "cell_type": "code",
   "execution_count": 19,
   "metadata": {},
   "outputs": [
    {
     "name": "stdout",
     "output_type": "stream",
     "text": [
      "+--------------------+-----------------+----------------------+---------------+----------------+---------------+-------------+-----------+-------------+--------------------+------------------+------------------+---------------+-----------+----------------+------------+--------------+-------------------+--------------------+---------------+--------------------+-----------------+-------------+--------------+----------+\n",
      "|           Timestamp|Source IP Address|Destination IP Address|    Source Port|Destination Port|       Protocol|Packet Length|Packet Type| Traffic Type|        Payload Data|Malware Indicators|    Anomaly Scores|Alerts/Warnings|Attack Type|Attack Signature|Action Taken|Severity Level|   User Information|  Device Information|Network Segment|   Geo-location Data|Proxy Information|Firewall Logs|IDS/IPS Alerts|Log Source|\n",
      "+--------------------+-----------------+----------------------+---------------+----------------+---------------+-------------+-----------+-------------+--------------------+------------------+------------------+---------------+-----------+----------------+------------+--------------+-------------------+--------------------+---------------+--------------------+-----------------+-------------+--------------+----------+\n",
      "| 2023-05-30 06:33:58|    103.216.15.12|          84.9.164.252|          31225|           17616|           ICMP|          503|       Data|         HTTP|Qui natus odio as...|              NULL|              NULL|           NULL|       NULL|            NULL|        NULL|          NULL|               NULL|                NULL|           NULL|                NULL|             NULL|         NULL|          NULL|      NULL|\n",
      "|Maiores possimus ...|     IoC Detected|                 28.67|           NULL|         Malware|Known Pattern B|       Logged|        Low|Reyansh Dugal|Mozilla/5.0 (comp...|         Segment A|Jamshedpur, Sikkim|   150.9.97.135|   Log Data|            NULL|      Server|          NULL|               NULL|                NULL|           NULL|                NULL|             NULL|         NULL|          NULL|      NULL|\n",
      "| 2020-08-26 07:08:30|   78.199.217.198|        66.191.137.154|          17245|           48166|           ICMP|         1174|       Data|         HTTP|Aperiam quos modi...|              NULL|              NULL|           NULL|       NULL|            NULL|        NULL|          NULL|               NULL|                NULL|           NULL|                NULL|             NULL|         NULL|          NULL|      NULL|\n",
      "|Illo animi mollit...|     IoC Detected|                  51.5|           NULL|         Malware|Known Pattern A|      Blocked|        Low|   Sumer Rana|Mozilla/5.0 (comp...|         Segment B|Bilaspur, Nagaland|           NULL|   Log Data|            NULL|    Firewall|          NULL|               NULL|                NULL|           NULL|                NULL|             NULL|         NULL|          NULL|      NULL|\n",
      "| 2022-11-13 08:23:25|     63.79.210.48|         198.219.82.17|          16811|           53600|            UDP|          306|    Control|         HTTP|Perferendis sapie...|      IoC Detected|             87.42|Alert Triggered|       DDoS| Known Pattern B|     Ignored|           Low|       Himmat Karpe|Mozilla/5.0 (comp...|      Segment C|   Bokaro, Rajasthan|   114.133.48.179|     Log Data|    Alert Data|  Firewall|\n",
      "| 2023-07-02 10:38:46|    163.42.196.10|       101.228.192.255|          20018|           32534|            UDP|          385|       Data|         HTTP|Totam maxime beat...|              NULL|             15.79|Alert Triggered|    Malware| Known Pattern B|     Blocked|        Medium|         Fateh Kibe|Mozilla/5.0 (Maci...|      Segment B|  Jaunpur, Rajasthan|             NULL|         NULL|    Alert Data|  Firewall|\n",
      "| 2023-07-16 13:11:07|    71.166.185.76|       189.243.174.238|           6131|           26646|            TCP|         1462|       Data|          DNS|Odit nesciunt dol...|              NULL|              NULL|           NULL|       NULL|            NULL|        NULL|          NULL|               NULL|                NULL|           NULL|                NULL|             NULL|         NULL|          NULL|      NULL|\n",
      "|Quia illo fugit e...|             NULL|                  0.52|Alert Triggered|            DDoS|Known Pattern B|      Blocked|        Low| Dhanush Chad|Mozilla/5.0 (comp...|         Segment C|Anantapur, Tripura|  149.6.110.119|       NULL|      Alert Data|    Firewall|          NULL|               NULL|                NULL|           NULL|                NULL|             NULL|         NULL|          NULL|      NULL|\n",
      "| 2022-10-28 13:14:27|    198.102.5.160|       147.190.155.133|          17430|           52805|            UDP|         1423|       Data|         HTTP|Repellat quas ill...|              NULL|              5.76|           NULL|    Malware| Known Pattern A|      Logged|        Medium|Zeeshan Viswanathan|Opera/8.58.(X11; ...|      Segment C|Aurangabad, Megha...|             NULL|         NULL|          NULL|    Server|\n",
      "| 2022-05-16 17:55:43|    97.253.103.59|          77.16.101.53|          26562|           17416|            TCP|          379|       Data|          DNS|Qui numquam inven...|              NULL|              NULL|           NULL|       NULL|            NULL|        NULL|          NULL|               NULL|                NULL|           NULL|                NULL|             NULL|         NULL|          NULL|      NULL|\n",
      "+--------------------+-----------------+----------------------+---------------+----------------+---------------+-------------+-----------+-------------+--------------------+------------------+------------------+---------------+-----------+----------------+------------+--------------+-------------------+--------------------+---------------+--------------------+-----------------+-------------+--------------+----------+\n",
      "only showing top 10 rows\n",
      "\n"
     ]
    }
   ],
   "source": [
    "df.show(10)"
   ]
  }
 ],
 "metadata": {
  "kernelspec": {
   "display_name": "Python 3",
   "language": "python",
   "name": "python3"
  },
  "language_info": {
   "codemirror_mode": {
    "name": "ipython",
    "version": 3
   },
   "file_extension": ".py",
   "mimetype": "text/x-python",
   "name": "python",
   "nbconvert_exporter": "python",
   "pygments_lexer": "ipython3",
   "version": "3.12.3"
  }
 },
 "nbformat": 4,
 "nbformat_minor": 2
}
