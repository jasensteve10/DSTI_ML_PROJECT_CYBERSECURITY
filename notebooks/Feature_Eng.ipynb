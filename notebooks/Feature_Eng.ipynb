{
 "cells": [
  {
   "cell_type": "markdown",
   "metadata": {},
   "source": [
    "# library import "
   ]
  },
  {
   "cell_type": "code",
   "execution_count": null,
   "metadata": {},
   "outputs": [],
   "source": [
    "import pandas as pd\n",
    "import numpy as np"
   ]
  },
  {
   "cell_type": "code",
   "execution_count": null,
   "metadata": {},
   "outputs": [],
   "source": [
    "## clean up the data loaded from the csv file\n",
    "df = pd.read_csv('../data/processed/cleaned_cybersecurity_attacks.csv')\n",
    "df.head(10)"
   ]
  },
  {
   "cell_type": "markdown",
   "metadata": {},
   "source": [
    "# add index column\n",
    "  will further help us for our model"
   ]
  },
  {
   "cell_type": "code",
   "execution_count": null,
   "metadata": {},
   "outputs": [],
   "source": [
    "df['Attack_Index'] = df.index\n",
    "df.info()"
   ]
  },
  {
   "cell_type": "markdown",
   "metadata": {},
   "source": [
    "#  Drop columns"
   ]
  },
  {
   "cell_type": "markdown",
   "metadata": {},
   "source": [
    "for our FE, to feed in numerical data to our model we will need to drop some non numerical columns like :\n",
    "- Timestamp\n",
    "- Source IP Address\n",
    "- Destination Address\n",
    "- Source Port \n",
    "- Destination Port\n",
    "- Pay Load \n",
    "- User Information\n",
    "- Device Information\n",
    "- Geo-location Data"
   ]
  },
  {
   "cell_type": "code",
   "execution_count": null,
   "metadata": {},
   "outputs": [],
   "source": [
    "def drop_columns(df):\n",
    "    columns_to_drop = [\"Timestamp\", \"Source IP Address\", \"Destination IP Address\", \"Source Port\", \"Destination Port\", \"Payload Data\", \"User Information\", \"Device Information\", \"Geo-location Data\"]\n",
    "    df = df.drop(columns=columns_to_drop)\n",
    "    return df\n"
   ]
  },
  {
   "cell_type": "code",
   "execution_count": null,
   "metadata": {},
   "outputs": [],
   "source": [
    "df = drop_columns(df)\n",
    "df.head(10)"
   ]
  },
  {
   "cell_type": "markdown",
   "metadata": {},
   "source": [
    "# Encoding \n"
   ]
  },
  {
   "cell_type": "markdown",
   "metadata": {},
   "source": [
    "these following columns will be encoded:\n",
    "- Protocol : vector encoding \n",
    "- Packet type : vector encoding \n",
    "- Traffic Type : vector encoding\n",
    "- Malware Indicator : vector encoding\n",
    "- Alerts/Warnings : vector encoding \n",
    "- Attack Type : vector encoding \n",
    "- Attack Signature : vector encoding \n",
    "- Action Taken : vector encoding \n",
    "- Network Segment : vector encoding\n",
    "- Firewall Logs : vector encoding\n",
    "- IDS/IPS Alerts : vector encoding \n",
    "- Log Source : vector encoding\n"
   ]
  },
  {
   "cell_type": "markdown",
   "metadata": {},
   "source": [
    "- Severity Level : ordinal encoding"
   ]
  },
  {
   "cell_type": "markdown",
   "metadata": {},
   "source": [
    "## Vector encoding "
   ]
  },
  {
   "cell_type": "code",
   "execution_count": null,
   "metadata": {},
   "outputs": [],
   "source": [
    "# Encoding categorical columns using get_dummies\n",
    "categorical_columns = ['Protocol', 'Packet Type', 'Traffic Type', 'Malware Indicators', 'Alerts/Warnings', 'Attack Signature', 'Action Taken', 'Network Segment', 'Firewall Logs', 'IDS/IPS Alerts', 'Log Source']\n",
    "\n",
    "\n",
    "for col in categorical_columns:\n",
    "    dummies = pd.get_dummies(df[col], prefix=col, dtype=int)\n",
    "    df = pd.concat([df, dummies], axis=1)\n",
    "    #df_encoded = df_encoded.drop(columns=[col])\n",
    "\n",
    "df.head(10)"
   ]
  },
  {
   "cell_type": "markdown",
   "metadata": {},
   "source": [
    "## ordinal encoding"
   ]
  },
  {
   "cell_type": "code",
   "execution_count": null,
   "metadata": {},
   "outputs": [],
   "source": [
    "from sklearn.preprocessing import LabelEncoder\n",
    "\n",
    "# Initialize the LabelEncoder\n",
    "label_encoder = LabelEncoder()\n",
    "\n",
    "# Fit and transform the \"Severity Level\" column\n",
    "df['Severity Level'] = label_encoder.fit_transform(df['Severity Level'])\n",
    "\n",
    "df.head(20)"
   ]
  },
  {
   "cell_type": "markdown",
   "metadata": {},
   "source": [
    "## dropping encoded columns\n"
   ]
  },
  {
   "cell_type": "code",
   "execution_count": null,
   "metadata": {},
   "outputs": [],
   "source": [
    "columns_to_drop = ['Protocol', 'Packet Type', 'Traffic Type', 'Malware Indicators', 'Alerts/Warnings', 'Attack Signature', 'Action Taken', 'Network Segment', 'Firewall Logs', 'IDS/IPS Alerts', 'Log Source']\n",
    "df = df.drop(columns=columns_to_drop)\n",
    "df.head(5)"
   ]
  },
  {
   "cell_type": "code",
   "execution_count": 19,
   "metadata": {},
   "outputs": [
    {
     "name": "stdout",
     "output_type": "stream",
     "text": [
      "<class 'pandas.core.frame.DataFrame'>\n",
      "RangeIndex: 40000 entries, 0 to 39999\n",
      "Data columns (total 57 columns):\n",
      " #   Column                              Non-Null Count  Dtype  \n",
      "---  ------                              --------------  -----  \n",
      " 0   Packet Length                       40000 non-null  int64  \n",
      " 1   Anomaly Scores                      40000 non-null  float64\n",
      " 2   Attack Type                         40000 non-null  object \n",
      " 3   Severity Level                      40000 non-null  int64  \n",
      " 4   Attack_Index                        40000 non-null  int64  \n",
      " 5   Protocol_ICMP                       40000 non-null  int64  \n",
      " 6   Protocol_TCP                        40000 non-null  int64  \n",
      " 7   Protocol_UDP                        40000 non-null  int64  \n",
      " 8   Packet Type_Control                 40000 non-null  int64  \n",
      " 9   Packet Type_Data                    40000 non-null  int64  \n",
      " 10  Traffic Type_DNS                    40000 non-null  int64  \n",
      " 11  Traffic Type_FTP                    40000 non-null  int64  \n",
      " 12  Traffic Type_HTTP                   40000 non-null  int64  \n",
      " 13  Malware Indicators_IoC Detected     40000 non-null  int64  \n",
      " 14  Malware Indicators_No IoC Detected  40000 non-null  int64  \n",
      " 15  Alerts/Warnings_Alert Triggered     40000 non-null  int64  \n",
      " 16  Alerts/Warnings_No Alert Triggered  40000 non-null  int64  \n",
      " 17  Attack Signature_Known Pattern A    40000 non-null  int64  \n",
      " 18  Attack Signature_Known Pattern B    40000 non-null  int64  \n",
      " 19  Action Taken_Blocked                40000 non-null  int64  \n",
      " 20  Action Taken_Ignored                40000 non-null  int64  \n",
      " 21  Action Taken_Logged                 40000 non-null  int64  \n",
      " 22  Network Segment_Segment A           40000 non-null  int64  \n",
      " 23  Network Segment_Segment B           40000 non-null  int64  \n",
      " 24  Network Segment_Segment C           40000 non-null  int64  \n",
      " 25  Firewall Logs_Log Data              40000 non-null  int64  \n",
      " 26  Firewall Logs_No Log Data           40000 non-null  int64  \n",
      " 27  IDS/IPS Alerts_Alert Data           40000 non-null  int64  \n",
      " 28  IDS/IPS Alerts_No Alert Data        40000 non-null  int64  \n",
      " 29  Log Source_Firewall                 40000 non-null  int64  \n",
      " 30  Log Source_Server                   40000 non-null  int64  \n",
      " 31  Protocol_ICMP                       40000 non-null  int64  \n",
      " 32  Protocol_TCP                        40000 non-null  int64  \n",
      " 33  Protocol_UDP                        40000 non-null  int64  \n",
      " 34  Packet Type_Control                 40000 non-null  int64  \n",
      " 35  Packet Type_Data                    40000 non-null  int64  \n",
      " 36  Traffic Type_DNS                    40000 non-null  int64  \n",
      " 37  Traffic Type_FTP                    40000 non-null  int64  \n",
      " 38  Traffic Type_HTTP                   40000 non-null  int64  \n",
      " 39  Malware Indicators_IoC Detected     40000 non-null  int64  \n",
      " 40  Malware Indicators_No IoC Detected  40000 non-null  int64  \n",
      " 41  Alerts/Warnings_Alert Triggered     40000 non-null  int64  \n",
      " 42  Alerts/Warnings_No Alert Triggered  40000 non-null  int64  \n",
      " 43  Attack Signature_Known Pattern A    40000 non-null  int64  \n",
      " 44  Attack Signature_Known Pattern B    40000 non-null  int64  \n",
      " 45  Action Taken_Blocked                40000 non-null  int64  \n",
      " 46  Action Taken_Ignored                40000 non-null  int64  \n",
      " 47  Action Taken_Logged                 40000 non-null  int64  \n",
      " 48  Network Segment_Segment A           40000 non-null  int64  \n",
      " 49  Network Segment_Segment B           40000 non-null  int64  \n",
      " 50  Network Segment_Segment C           40000 non-null  int64  \n",
      " 51  Firewall Logs_Log Data              40000 non-null  int64  \n",
      " 52  Firewall Logs_No Log Data           40000 non-null  int64  \n",
      " 53  IDS/IPS Alerts_Alert Data           40000 non-null  int64  \n",
      " 54  IDS/IPS Alerts_No Alert Data        40000 non-null  int64  \n",
      " 55  Log Source_Firewall                 40000 non-null  int64  \n",
      " 56  Log Source_Server                   40000 non-null  int64  \n",
      "dtypes: float64(1), int64(55), object(1)\n",
      "memory usage: 17.4+ MB\n"
     ]
    }
   ],
   "source": [
    "df.info()"
   ]
  },
  {
   "cell_type": "markdown",
   "metadata": {},
   "source": [
    "store the dataframe"
   ]
  },
  {
   "cell_type": "code",
   "execution_count": 20,
   "metadata": {},
   "outputs": [],
   "source": [
    "# Save the cleaned DataFrame to a new CSV file\n",
    "df.to_csv('../data/processed/cleaned_cybersecurity_attacks_encoded.csv', index=False)"
   ]
  }
 ],
 "metadata": {
  "kernelspec": {
   "display_name": "Python 3",
   "language": "python",
   "name": "python3"
  },
  "language_info": {
   "codemirror_mode": {
    "name": "ipython",
    "version": 3
   },
   "file_extension": ".py",
   "mimetype": "text/x-python",
   "name": "python",
   "nbconvert_exporter": "python",
   "pygments_lexer": "ipython3",
   "version": "3.12.3"
  }
 },
 "nbformat": 4,
 "nbformat_minor": 2
}
