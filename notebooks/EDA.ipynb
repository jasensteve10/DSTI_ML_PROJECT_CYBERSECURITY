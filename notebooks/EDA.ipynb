{
 "cells": [
  {
   "cell_type": "markdown",
   "metadata": {},
   "source": [
    "# Library Import\n"
   ]
  },
  {
   "cell_type": "code",
   "execution_count": 3,
   "metadata": {},
   "outputs": [],
   "source": [
    "import pandas as pd"
   ]
  },
  {
   "cell_type": "code",
   "execution_count": null,
   "metadata": {},
   "outputs": [],
   "source": [
    "import pandas as pd\n",
    "import polars as pl \n",
    "from ydata_profiling import ProfileReport\n",
    "import seaborn as sns\n",
    "import matplotlib.pyplot as plt\n",
    "from plotly.subplots import make_subplots\n",
    "import plotly.express as px\n",
    "import plotly.graph_objects as go\n",
    "\n",
    "pd.set_option(\"display.max_columns\", None)"
   ]
  },
  {
   "cell_type": "markdown",
   "metadata": {},
   "source": [
    "# DATA EXPLORATION AND ANALYSIS\n"
   ]
  },
  {
   "cell_type": "markdown",
   "metadata": {},
   "source": [
    "##  Load the dataset"
   ]
  },
  {
   "cell_type": "code",
   "execution_count": 8,
   "metadata": {},
   "outputs": [],
   "source": [
    "path = \"../data/raw/cybersecurity_attacks.csv\"\n",
    "# Load the dataset\n",
    "df = pd.read_csv(path)"
   ]
  },
  {
   "cell_type": "markdown",
   "metadata": {},
   "source": [
    "## profile report"
   ]
  },
  {
   "cell_type": "code",
   "execution_count": null,
   "metadata": {},
   "outputs": [],
   "source": [
    "\n",
    "profile = ProfileReport(df, title = \"Cyber Security Attack Type Detection\")\n",
    "profile.to_notebook_iframe()"
   ]
  },
  {
   "cell_type": "markdown",
   "metadata": {},
   "source": [
    "## columns inspection\n"
   ]
  },
  {
   "cell_type": "markdown",
   "metadata": {},
   "source": [
    "- The profile report indicates that there are three different kinds of attacks: DDoS, Malware and Intrusion. Furthermore, approximately half of the data has a malware indicator, and approximately half the data has an alert.\n",
    "- The source IP address is a unique variable as is the destination IP address. \n",
    "- There are no correlations between the variables. \n",
    "- Alerts are something that are triggered by the attack, it is assumable that this variable cannot be used to predict the attack type as they arrive after the attack is deployed\n",
    "- The same can be said for the action taken after the attack"
   ]
  },
  {
   "cell_type": "code",
   "execution_count": 11,
   "metadata": {},
   "outputs": [
    {
     "data": {
      "application/vnd.microsoft.datawrangler.viewer.v0+json": {
       "columns": [
        {
         "name": "index",
         "rawType": "object",
         "type": "string"
        },
        {
         "name": "Source Port",
         "rawType": "float64",
         "type": "float"
        },
        {
         "name": "Destination Port",
         "rawType": "float64",
         "type": "float"
        },
        {
         "name": "Packet Length",
         "rawType": "float64",
         "type": "float"
        },
        {
         "name": "Anomaly Scores",
         "rawType": "float64",
         "type": "float"
        }
       ],
       "conversionMethod": "pd.DataFrame",
       "ref": "73749615-8fa9-4fb5-a706-104970e81ad6",
       "rows": [
        [
         "count",
         "40000.0",
         "40000.0",
         "40000.0",
         "40000.0"
        ],
        [
         "mean",
         "32970.35645",
         "33150.86865",
         "781.452725",
         "50.11347325"
        ],
        [
         "std",
         "18560.425604487333",
         "18574.66884156516",
         "416.04419186465515",
         "28.853598250518676"
        ],
        [
         "min",
         "1027.0",
         "1024.0",
         "64.0",
         "0.0"
        ],
        [
         "25%",
         "16850.75",
         "17094.75",
         "420.0",
         "25.15"
        ],
        [
         "50%",
         "32856.0",
         "33004.5",
         "782.0",
         "50.345"
        ],
        [
         "75%",
         "48928.25",
         "49287.0",
         "1143.0",
         "75.03"
        ],
        [
         "max",
         "65530.0",
         "65535.0",
         "1500.0",
         "100.0"
        ]
       ],
       "shape": {
        "columns": 4,
        "rows": 8
       }
      },
      "text/html": [
       "<div>\n",
       "<style scoped>\n",
       "    .dataframe tbody tr th:only-of-type {\n",
       "        vertical-align: middle;\n",
       "    }\n",
       "\n",
       "    .dataframe tbody tr th {\n",
       "        vertical-align: top;\n",
       "    }\n",
       "\n",
       "    .dataframe thead th {\n",
       "        text-align: right;\n",
       "    }\n",
       "</style>\n",
       "<table border=\"1\" class=\"dataframe\">\n",
       "  <thead>\n",
       "    <tr style=\"text-align: right;\">\n",
       "      <th></th>\n",
       "      <th>Source Port</th>\n",
       "      <th>Destination Port</th>\n",
       "      <th>Packet Length</th>\n",
       "      <th>Anomaly Scores</th>\n",
       "    </tr>\n",
       "  </thead>\n",
       "  <tbody>\n",
       "    <tr>\n",
       "      <th>count</th>\n",
       "      <td>40000.000000</td>\n",
       "      <td>40000.000000</td>\n",
       "      <td>40000.000000</td>\n",
       "      <td>40000.000000</td>\n",
       "    </tr>\n",
       "    <tr>\n",
       "      <th>mean</th>\n",
       "      <td>32970.356450</td>\n",
       "      <td>33150.868650</td>\n",
       "      <td>781.452725</td>\n",
       "      <td>50.113473</td>\n",
       "    </tr>\n",
       "    <tr>\n",
       "      <th>std</th>\n",
       "      <td>18560.425604</td>\n",
       "      <td>18574.668842</td>\n",
       "      <td>416.044192</td>\n",
       "      <td>28.853598</td>\n",
       "    </tr>\n",
       "    <tr>\n",
       "      <th>min</th>\n",
       "      <td>1027.000000</td>\n",
       "      <td>1024.000000</td>\n",
       "      <td>64.000000</td>\n",
       "      <td>0.000000</td>\n",
       "    </tr>\n",
       "    <tr>\n",
       "      <th>25%</th>\n",
       "      <td>16850.750000</td>\n",
       "      <td>17094.750000</td>\n",
       "      <td>420.000000</td>\n",
       "      <td>25.150000</td>\n",
       "    </tr>\n",
       "    <tr>\n",
       "      <th>50%</th>\n",
       "      <td>32856.000000</td>\n",
       "      <td>33004.500000</td>\n",
       "      <td>782.000000</td>\n",
       "      <td>50.345000</td>\n",
       "    </tr>\n",
       "    <tr>\n",
       "      <th>75%</th>\n",
       "      <td>48928.250000</td>\n",
       "      <td>49287.000000</td>\n",
       "      <td>1143.000000</td>\n",
       "      <td>75.030000</td>\n",
       "    </tr>\n",
       "    <tr>\n",
       "      <th>max</th>\n",
       "      <td>65530.000000</td>\n",
       "      <td>65535.000000</td>\n",
       "      <td>1500.000000</td>\n",
       "      <td>100.000000</td>\n",
       "    </tr>\n",
       "  </tbody>\n",
       "</table>\n",
       "</div>"
      ],
      "text/plain": [
       "        Source Port  Destination Port  Packet Length  Anomaly Scores\n",
       "count  40000.000000      40000.000000   40000.000000    40000.000000\n",
       "mean   32970.356450      33150.868650     781.452725       50.113473\n",
       "std    18560.425604      18574.668842     416.044192       28.853598\n",
       "min     1027.000000       1024.000000      64.000000        0.000000\n",
       "25%    16850.750000      17094.750000     420.000000       25.150000\n",
       "50%    32856.000000      33004.500000     782.000000       50.345000\n",
       "75%    48928.250000      49287.000000    1143.000000       75.030000\n",
       "max    65530.000000      65535.000000    1500.000000      100.000000"
      ]
     },
     "execution_count": 11,
     "metadata": {},
     "output_type": "execute_result"
    }
   ],
   "source": [
    "df.describe()\n"
   ]
  },
  {
   "cell_type": "markdown",
   "metadata": {},
   "source": [
    "- half of the entries have duplicated user information, but with different source and destination IP addresses (unique variables)\n"
   ]
  },
  {
   "cell_type": "code",
   "execution_count": 12,
   "metadata": {},
   "outputs": [
    {
     "data": {
      "application/vnd.microsoft.datawrangler.viewer.v0+json": {
       "columns": [
        {
         "name": "index",
         "rawType": "int64",
         "type": "integer"
        },
        {
         "name": "Timestamp",
         "rawType": "object",
         "type": "string"
        },
        {
         "name": "Source IP Address",
         "rawType": "object",
         "type": "string"
        },
        {
         "name": "Destination IP Address",
         "rawType": "object",
         "type": "string"
        },
        {
         "name": "Source Port",
         "rawType": "int64",
         "type": "integer"
        },
        {
         "name": "Destination Port",
         "rawType": "int64",
         "type": "integer"
        },
        {
         "name": "Protocol",
         "rawType": "object",
         "type": "string"
        },
        {
         "name": "Packet Length",
         "rawType": "int64",
         "type": "integer"
        },
        {
         "name": "Packet Type",
         "rawType": "object",
         "type": "string"
        },
        {
         "name": "Traffic Type",
         "rawType": "object",
         "type": "string"
        },
        {
         "name": "Payload Data",
         "rawType": "object",
         "type": "string"
        },
        {
         "name": "Malware Indicators",
         "rawType": "object",
         "type": "unknown"
        },
        {
         "name": "Anomaly Scores",
         "rawType": "float64",
         "type": "float"
        },
        {
         "name": "Alerts/Warnings",
         "rawType": "object",
         "type": "unknown"
        },
        {
         "name": "Attack Type",
         "rawType": "object",
         "type": "string"
        },
        {
         "name": "Attack Signature",
         "rawType": "object",
         "type": "string"
        },
        {
         "name": "Action Taken",
         "rawType": "object",
         "type": "string"
        },
        {
         "name": "Severity Level",
         "rawType": "object",
         "type": "string"
        },
        {
         "name": "User Information",
         "rawType": "object",
         "type": "string"
        },
        {
         "name": "Device Information",
         "rawType": "object",
         "type": "string"
        },
        {
         "name": "Network Segment",
         "rawType": "object",
         "type": "string"
        },
        {
         "name": "Geo-location Data",
         "rawType": "object",
         "type": "string"
        },
        {
         "name": "Proxy Information",
         "rawType": "object",
         "type": "unknown"
        },
        {
         "name": "Firewall Logs",
         "rawType": "object",
         "type": "unknown"
        },
        {
         "name": "IDS/IPS Alerts",
         "rawType": "object",
         "type": "unknown"
        },
        {
         "name": "Log Source",
         "rawType": "object",
         "type": "string"
        }
       ],
       "conversionMethod": "pd.DataFrame",
       "ref": "d7b92db1-734f-49a0-9b8b-4ffa452933e0",
       "rows": [
        [
         "1",
         "2020-08-26 07:08:30",
         "78.199.217.198",
         "66.191.137.154",
         "17245",
         "48166",
         "ICMP",
         "1174",
         "Data",
         "HTTP",
         "Aperiam quos modi officiis veritatis rem. Omnis nulla dolore perspiciatis.\nIllo animi mollitia vero voluptates error ad. Quidem maxime eaque optio a. Consectetur quasi veniam et totam culpa ullam.",
         "IoC Detected",
         "51.5",
         null,
         "Malware",
         "Known Pattern A",
         "Blocked",
         "Low",
         "Sumer Rana",
         "Mozilla/5.0 (compatible; MSIE 8.0; Windows NT 6.0; Trident/4.0)",
         "Segment B",
         "Bilaspur, Nagaland",
         null,
         "Log Data",
         null,
         "Firewall"
        ],
        [
         "9",
         "2021-08-15 22:29:04",
         "114.109.149.113",
         "160.88.194.172",
         "37918",
         "50039",
         "UDP",
         "224",
         "Data",
         "HTTP",
         "Consequatur ipsum autem reprehenderit quae. Doloribus dicta laboriosam porro consequatur dicta deleniti. Hic doloribus non aliquam.",
         null,
         "16.51",
         "Alert Triggered",
         "Malware",
         "Known Pattern B",
         "Blocked",
         "Medium",
         "Mishti Chaudhuri",
         "Mozilla/5.0 (Windows; U; Windows NT 6.0) AppleWebKit/533.28.5 (KHTML, like Gecko) Version/4.0 Safari/533.28.5",
         "Segment A",
         "Rampur, Mizoram",
         "87.128.245.244",
         null,
         null,
         "Server"
        ],
        [
         "10",
         "2022-07-20 13:28:50",
         "177.21.83.200",
         "196.218.124.169",
         "35538",
         "35006",
         "ICMP",
         "661",
         "Data",
         "HTTP",
         "Sequi maxime voluptate ea. Eius officiis eaque. Nesciunt aspernatur rerum qui aperiam earum.\nEius dolore molestias. Voluptas laboriosam vero suscipit assumenda inventore.",
         null,
         "24.91",
         "Alert Triggered",
         "Malware",
         "Known Pattern B",
         "Ignored",
         "Medium",
         "Hunar Sem",
         "Mozilla/5.0 (iPod; U; CPU iPhone OS 4_3 like Mac OS X; xh-ZA) AppleWebKit/534.25.1 (KHTML, like Gecko) Version/4.0.5 Mobile/8B111 Safari/6534.25.1",
         "Segment B",
         "Gangtok, Haryana",
         "29.161.99.247",
         null,
         null,
         "Server"
        ],
        [
         "11",
         "2022-06-26 15:15:50",
         "92.4.25.171",
         "112.43.185.24",
         "10903",
         "36817",
         "TCP",
         "281",
         "Control",
         "HTTP",
         "Nihil praesentium asperiores omnis ullam libero. Facilis eius aspernatur perspiciatis inventore veniam. Laborum nobis ex iste.",
         null,
         "86.07",
         null,
         "Malware",
         "Known Pattern B",
         "Ignored",
         "Low",
         "Mehul Raj",
         "Opera/8.38.(X11; Linux x86_64; pt-BR) Presto/2.9.175 Version/12.00",
         "Segment B",
         "Nandyal, Mizoram",
         null,
         null,
         null,
         "Firewall"
        ],
        [
         "12",
         "2020-09-30 21:35:31",
         "57.91.207.84",
         "98.96.110.38",
         "53471",
         "38048",
         "ICMP",
         "64",
         "Control",
         "DNS",
         "Earum sit est et eaque ipsam. Vero repellendus error iusto eveniet.",
         null,
         "74.2",
         "Alert Triggered",
         "Intrusion",
         "Known Pattern A",
         "Blocked",
         "Medium",
         "Vaibhav Kala",
         "Opera/8.54.(Windows NT 6.0; tg-TJ) Presto/2.9.170 Version/12.00",
         "Segment B",
         "Silchar, Kerala",
         null,
         "Log Data",
         "Alert Data",
         "Server"
        ]
       ],
       "shape": {
        "columns": 25,
        "rows": 5
       }
      },
      "text/html": [
       "<div>\n",
       "<style scoped>\n",
       "    .dataframe tbody tr th:only-of-type {\n",
       "        vertical-align: middle;\n",
       "    }\n",
       "\n",
       "    .dataframe tbody tr th {\n",
       "        vertical-align: top;\n",
       "    }\n",
       "\n",
       "    .dataframe thead th {\n",
       "        text-align: right;\n",
       "    }\n",
       "</style>\n",
       "<table border=\"1\" class=\"dataframe\">\n",
       "  <thead>\n",
       "    <tr style=\"text-align: right;\">\n",
       "      <th></th>\n",
       "      <th>Timestamp</th>\n",
       "      <th>Source IP Address</th>\n",
       "      <th>Destination IP Address</th>\n",
       "      <th>Source Port</th>\n",
       "      <th>Destination Port</th>\n",
       "      <th>Protocol</th>\n",
       "      <th>Packet Length</th>\n",
       "      <th>Packet Type</th>\n",
       "      <th>Traffic Type</th>\n",
       "      <th>Payload Data</th>\n",
       "      <th>...</th>\n",
       "      <th>Action Taken</th>\n",
       "      <th>Severity Level</th>\n",
       "      <th>User Information</th>\n",
       "      <th>Device Information</th>\n",
       "      <th>Network Segment</th>\n",
       "      <th>Geo-location Data</th>\n",
       "      <th>Proxy Information</th>\n",
       "      <th>Firewall Logs</th>\n",
       "      <th>IDS/IPS Alerts</th>\n",
       "      <th>Log Source</th>\n",
       "    </tr>\n",
       "  </thead>\n",
       "  <tbody>\n",
       "    <tr>\n",
       "      <th>1</th>\n",
       "      <td>2020-08-26 07:08:30</td>\n",
       "      <td>78.199.217.198</td>\n",
       "      <td>66.191.137.154</td>\n",
       "      <td>17245</td>\n",
       "      <td>48166</td>\n",
       "      <td>ICMP</td>\n",
       "      <td>1174</td>\n",
       "      <td>Data</td>\n",
       "      <td>HTTP</td>\n",
       "      <td>Aperiam quos modi officiis veritatis rem. Omni...</td>\n",
       "      <td>...</td>\n",
       "      <td>Blocked</td>\n",
       "      <td>Low</td>\n",
       "      <td>Sumer Rana</td>\n",
       "      <td>Mozilla/5.0 (compatible; MSIE 8.0; Windows NT ...</td>\n",
       "      <td>Segment B</td>\n",
       "      <td>Bilaspur, Nagaland</td>\n",
       "      <td>NaN</td>\n",
       "      <td>Log Data</td>\n",
       "      <td>NaN</td>\n",
       "      <td>Firewall</td>\n",
       "    </tr>\n",
       "    <tr>\n",
       "      <th>9</th>\n",
       "      <td>2021-08-15 22:29:04</td>\n",
       "      <td>114.109.149.113</td>\n",
       "      <td>160.88.194.172</td>\n",
       "      <td>37918</td>\n",
       "      <td>50039</td>\n",
       "      <td>UDP</td>\n",
       "      <td>224</td>\n",
       "      <td>Data</td>\n",
       "      <td>HTTP</td>\n",
       "      <td>Consequatur ipsum autem reprehenderit quae. Do...</td>\n",
       "      <td>...</td>\n",
       "      <td>Blocked</td>\n",
       "      <td>Medium</td>\n",
       "      <td>Mishti Chaudhuri</td>\n",
       "      <td>Mozilla/5.0 (Windows; U; Windows NT 6.0) Apple...</td>\n",
       "      <td>Segment A</td>\n",
       "      <td>Rampur, Mizoram</td>\n",
       "      <td>87.128.245.244</td>\n",
       "      <td>NaN</td>\n",
       "      <td>NaN</td>\n",
       "      <td>Server</td>\n",
       "    </tr>\n",
       "    <tr>\n",
       "      <th>10</th>\n",
       "      <td>2022-07-20 13:28:50</td>\n",
       "      <td>177.21.83.200</td>\n",
       "      <td>196.218.124.169</td>\n",
       "      <td>35538</td>\n",
       "      <td>35006</td>\n",
       "      <td>ICMP</td>\n",
       "      <td>661</td>\n",
       "      <td>Data</td>\n",
       "      <td>HTTP</td>\n",
       "      <td>Sequi maxime voluptate ea. Eius officiis eaque...</td>\n",
       "      <td>...</td>\n",
       "      <td>Ignored</td>\n",
       "      <td>Medium</td>\n",
       "      <td>Hunar Sem</td>\n",
       "      <td>Mozilla/5.0 (iPod; U; CPU iPhone OS 4_3 like M...</td>\n",
       "      <td>Segment B</td>\n",
       "      <td>Gangtok, Haryana</td>\n",
       "      <td>29.161.99.247</td>\n",
       "      <td>NaN</td>\n",
       "      <td>NaN</td>\n",
       "      <td>Server</td>\n",
       "    </tr>\n",
       "    <tr>\n",
       "      <th>11</th>\n",
       "      <td>2022-06-26 15:15:50</td>\n",
       "      <td>92.4.25.171</td>\n",
       "      <td>112.43.185.24</td>\n",
       "      <td>10903</td>\n",
       "      <td>36817</td>\n",
       "      <td>TCP</td>\n",
       "      <td>281</td>\n",
       "      <td>Control</td>\n",
       "      <td>HTTP</td>\n",
       "      <td>Nihil praesentium asperiores omnis ullam liber...</td>\n",
       "      <td>...</td>\n",
       "      <td>Ignored</td>\n",
       "      <td>Low</td>\n",
       "      <td>Mehul Raj</td>\n",
       "      <td>Opera/8.38.(X11; Linux x86_64; pt-BR) Presto/2...</td>\n",
       "      <td>Segment B</td>\n",
       "      <td>Nandyal, Mizoram</td>\n",
       "      <td>NaN</td>\n",
       "      <td>NaN</td>\n",
       "      <td>NaN</td>\n",
       "      <td>Firewall</td>\n",
       "    </tr>\n",
       "    <tr>\n",
       "      <th>12</th>\n",
       "      <td>2020-09-30 21:35:31</td>\n",
       "      <td>57.91.207.84</td>\n",
       "      <td>98.96.110.38</td>\n",
       "      <td>53471</td>\n",
       "      <td>38048</td>\n",
       "      <td>ICMP</td>\n",
       "      <td>64</td>\n",
       "      <td>Control</td>\n",
       "      <td>DNS</td>\n",
       "      <td>Earum sit est et eaque ipsam. Vero repellendus...</td>\n",
       "      <td>...</td>\n",
       "      <td>Blocked</td>\n",
       "      <td>Medium</td>\n",
       "      <td>Vaibhav Kala</td>\n",
       "      <td>Opera/8.54.(Windows NT 6.0; tg-TJ) Presto/2.9....</td>\n",
       "      <td>Segment B</td>\n",
       "      <td>Silchar, Kerala</td>\n",
       "      <td>NaN</td>\n",
       "      <td>Log Data</td>\n",
       "      <td>Alert Data</td>\n",
       "      <td>Server</td>\n",
       "    </tr>\n",
       "  </tbody>\n",
       "</table>\n",
       "<p>5 rows × 25 columns</p>\n",
       "</div>"
      ],
      "text/plain": [
       "              Timestamp Source IP Address Destination IP Address  Source Port  \\\n",
       "1   2020-08-26 07:08:30    78.199.217.198         66.191.137.154        17245   \n",
       "9   2021-08-15 22:29:04   114.109.149.113         160.88.194.172        37918   \n",
       "10  2022-07-20 13:28:50     177.21.83.200        196.218.124.169        35538   \n",
       "11  2022-06-26 15:15:50       92.4.25.171          112.43.185.24        10903   \n",
       "12  2020-09-30 21:35:31      57.91.207.84           98.96.110.38        53471   \n",
       "\n",
       "    Destination Port Protocol  Packet Length Packet Type Traffic Type  \\\n",
       "1              48166     ICMP           1174        Data         HTTP   \n",
       "9              50039      UDP            224        Data         HTTP   \n",
       "10             35006     ICMP            661        Data         HTTP   \n",
       "11             36817      TCP            281     Control         HTTP   \n",
       "12             38048     ICMP             64     Control          DNS   \n",
       "\n",
       "                                         Payload Data  ... Action Taken  \\\n",
       "1   Aperiam quos modi officiis veritatis rem. Omni...  ...      Blocked   \n",
       "9   Consequatur ipsum autem reprehenderit quae. Do...  ...      Blocked   \n",
       "10  Sequi maxime voluptate ea. Eius officiis eaque...  ...      Ignored   \n",
       "11  Nihil praesentium asperiores omnis ullam liber...  ...      Ignored   \n",
       "12  Earum sit est et eaque ipsam. Vero repellendus...  ...      Blocked   \n",
       "\n",
       "    Severity Level  User Information  \\\n",
       "1              Low        Sumer Rana   \n",
       "9           Medium  Mishti Chaudhuri   \n",
       "10          Medium         Hunar Sem   \n",
       "11             Low         Mehul Raj   \n",
       "12          Medium      Vaibhav Kala   \n",
       "\n",
       "                                   Device Information Network Segment  \\\n",
       "1   Mozilla/5.0 (compatible; MSIE 8.0; Windows NT ...       Segment B   \n",
       "9   Mozilla/5.0 (Windows; U; Windows NT 6.0) Apple...       Segment A   \n",
       "10  Mozilla/5.0 (iPod; U; CPU iPhone OS 4_3 like M...       Segment B   \n",
       "11  Opera/8.38.(X11; Linux x86_64; pt-BR) Presto/2...       Segment B   \n",
       "12  Opera/8.54.(Windows NT 6.0; tg-TJ) Presto/2.9....       Segment B   \n",
       "\n",
       "     Geo-location Data Proxy Information Firewall Logs IDS/IPS Alerts  \\\n",
       "1   Bilaspur, Nagaland               NaN      Log Data            NaN   \n",
       "9      Rampur, Mizoram    87.128.245.244           NaN            NaN   \n",
       "10    Gangtok, Haryana     29.161.99.247           NaN            NaN   \n",
       "11    Nandyal, Mizoram               NaN           NaN            NaN   \n",
       "12     Silchar, Kerala               NaN      Log Data     Alert Data   \n",
       "\n",
       "   Log Source  \n",
       "1    Firewall  \n",
       "9      Server  \n",
       "10     Server  \n",
       "11   Firewall  \n",
       "12     Server  \n",
       "\n",
       "[5 rows x 25 columns]"
      ]
     },
     "execution_count": 12,
     "metadata": {},
     "output_type": "execute_result"
    }
   ],
   "source": [
    "df[df[\"User Information\"].duplicated(keep=False)].head(5)\n"
   ]
  },
  {
   "cell_type": "markdown",
   "metadata": {},
   "source": [
    "### Inspect action taken for attack type"
   ]
  },
  {
   "cell_type": "code",
   "execution_count": null,
   "metadata": {},
   "outputs": [],
   "source": [
    "#plot the action taken for each attack type \n",
    "\n",
    "fig = px.bar(df, x= \"Attack Type\", color = \"Action Taken\", barmode = 'group', color_discrete_sequence= [\"red\", \"blue\", \"green\"])\n",
    "fig.show()"
   ]
  },
  {
   "cell_type": "code",
   "execution_count": null,
   "metadata": {},
   "outputs": [],
   "source": [
    "fig, ax = plt.subplots(1,3, figsize=(18,5))\n",
    "\n",
    "bar_container = ax[0].bar(df[\"Action Taken\"].unique(), df[\"Action Taken\"].loc[df[\"Attack Type\"]==\"DDoS\"].value_counts())\n",
    "bar_container = ax[1].bar(df[\"Action Taken\"].unique(), df[\"Action Taken\"].loc[df[\"Attack Type\"]==\"Malware\"].value_counts())\n",
    "bar_container = ax[2].bar(df[\"Action Taken\"].unique(), df[\"Action Taken\"].loc[df[\"Attack Type\"]==\"Intrusion\"].value_counts())\n",
    "\n",
    "ax[0].set_title(\"DDoS\")\n",
    "ax[1].set_title(\"Malware\")\n",
    "ax[2].set_title(\"Intrusion\")"
   ]
  },
  {
   "cell_type": "code",
   "execution_count": null,
   "metadata": {},
   "outputs": [],
   "source": [
    "df[\"Attack Type\"].value_counts()"
   ]
  },
  {
   "cell_type": "markdown",
   "metadata": {},
   "source": [
    "### Inspect alerts triggered by attack type"
   ]
  },
  {
   "cell_type": "code",
   "execution_count": null,
   "metadata": {},
   "outputs": [],
   "source": [
    "#tabulate the alerts triggered for each attack type\n",
    "print(f\"number of alerts triggered for each attack type:\"\n",
    "      f\" DDoS: {df[\"Alerts/Warnings\"].loc[df[\"Attack Type\"]==\"DDoS\"].count()} for {len(df[df[\"Attack Type\"]==\"DDoS\"])} attacks,\" \n",
    "      f\" Malware: {df[\"Alerts/Warnings\"].loc[df[\"Attack Type\"]==\"Malware\"].count()} for {len(df[df[\"Attack Type\"]==\"Malware\"])} attacks,\" \n",
    "      f\" Intrusion: {df[\"Alerts/Warnings\"].loc[df[\"Attack Type\"]==\"Intrusion\"].count()} for {len(df[df[\"Attack Type\"]==\"Intrusion\"])} attacks\")"
   ]
  },
  {
   "cell_type": "markdown",
   "metadata": {},
   "source": [
    "- half of the action taken is not triggered by an alert/warning"
   ]
  },
  {
   "cell_type": "code",
   "execution_count": null,
   "metadata": {},
   "outputs": [],
   "source": [
    "df[\"Action Taken\"].loc[df[\"Alerts/Warnings\"].isna()].count(), df[\"Action Taken\"].count()"
   ]
  },
  {
   "cell_type": "markdown",
   "metadata": {},
   "source": [
    "### Inspect protocol and attack type"
   ]
  },
  {
   "cell_type": "code",
   "execution_count": null,
   "metadata": {},
   "outputs": [],
   "source": [
    "fig, ax = plt.subplots(1,3, figsize=(18,5))\n",
    "\n",
    "bar_container = ax[0].bar(df[\"Protocol\"].unique(), df[\"Protocol\"].loc[df[\"Attack Type\"]==\"DDoS\"].value_counts())\n",
    "bar_container = ax[1].bar(df[\"Protocol\"].unique(), df[\"Protocol\"].loc[df[\"Attack Type\"]==\"Malware\"].value_counts())\n",
    "bar_container = ax[2].bar(df[\"Protocol\"].unique(), df[\"Protocol\"].loc[df[\"Attack Type\"]==\"Intrusion\"].value_counts())\n",
    "\n",
    "ax[0].set_title(\"DDoS\")\n",
    "ax[1].set_title(\"Malware\")\n",
    "ax[2].set_title(\"Intrusion\")"
   ]
  },
  {
   "cell_type": "markdown",
   "metadata": {},
   "source": [
    "### Inspect packets"
   ]
  },
  {
   "cell_type": "code",
   "execution_count": null,
   "metadata": {},
   "outputs": [],
   "source": [
    "fig, ax = plt.subplots(1,2, figsize = (16,5))\n",
    "\n",
    "ax[0].hist(df[\"Packet Length\"].loc[df[\"Packet Type\"]==\"Control\"], bins=50)\n",
    "ax[1].hist(df[\"Packet Length\"].loc[df[\"Packet Type\"]==\"Data\"], bins=50)\n",
    "\n",
    "ax[0].set_title(\"packet type: Control\")\n",
    "ax[1].set_title(\"packet type: Data\")"
   ]
  },
  {
   "cell_type": "markdown",
   "metadata": {},
   "source": [
    "# DATA CLEANING"
   ]
  },
  {
   "cell_type": "markdown",
   "metadata": {},
   "source": [
    "## information about the table "
   ]
  },
  {
   "cell_type": "markdown",
   "metadata": {},
   "source": [
    "- It has 40,000 rows and 25 columns.\n",
    "- TimeStamps is a data type column \n",
    "- Several columns have missing values (e.g., Malware Indicators, Alerts/Warnings, Proxy Information,Firewall logs, IDS/IPS Alerts).\n",
    "- numerical column ( Packet Length, Anamaly Scores) numerical analyses can be made on it \n",
    "- string column (Source IP Address, Destination IP Address, Source Port, Destination Port, Payload Data, User information, Device Information, Geo-location Data )\n",
    "- Some categorical features (e.g., Protocol, Packet Type, Traffic Type,Attack Type,Attack Signature,Action Taken,  Severity Level, Network Segment, Log Source) will require encoding for ML.\n",
    "- columns we will transform to categorial (Malware Indicators, Alerts/warnings, Firewall logs, IDS/IPS Alerts) \n",
    "- Proxy Information is a string column , but will be removed not relevant for our prediction and has many NaN value more than half of our set  "
   ]
  },
  {
   "cell_type": "markdown",
   "metadata": {},
   "source": [
    "## Missing values"
   ]
  },
  {
   "cell_type": "markdown",
   "metadata": {},
   "source": [
    "### Columns we need to add values\n",
    "\n",
    "- Malware Indicator\n",
    "- Alerts/Warnings\n",
    "- FireWall Logs\n",
    "- IDS/IPS Alerts\n",
    "\n"
   ]
  },
  {
   "cell_type": "code",
   "execution_count": null,
   "metadata": {},
   "outputs": [],
   "source": [
    "## ading a value \"not ioc detected\" to the Malware Indicators column where the value is NaN\n",
    "\n",
    "df['Malware Indicators'] = df['Malware Indicators'].fillna('No IoC Detected')\n",
    "\n",
    "# adding a value \"No Alert triggered\" to the Alerts/Warnings column where the value is NaN\n",
    "\n",
    "df['Alerts/Warnings'] = df['Alerts/Warnings'].fillna('No Alert Triggered')\n",
    "\n",
    "# adding a value \"No Log Data\" to the Firewall logs column where the value is NaN\n",
    "\n",
    "df['Firewall Logs'] = df['Firewall Logs'].fillna('No Log Data')\n",
    "\n",
    "# adding a value \"No Alert Data\" to the IDS/IPS Alerts column where the value is NaN\n",
    "\n",
    "df['IDS/IPS Alerts'] = df['IDS/IPS Alerts'].fillna('No Alert Data')"
   ]
  },
  {
   "cell_type": "markdown",
   "metadata": {},
   "source": [
    "### Drop columns"
   ]
  },
  {
   "cell_type": "markdown",
   "metadata": {},
   "source": [
    "\n",
    "- Proxy Information : This column is not really relevant for our model and has many nan \n"
   ]
  },
  {
   "cell_type": "code",
   "execution_count": null,
   "metadata": {},
   "outputs": [],
   "source": [
    "# Delete Proxy Information column\n",
    "\n",
    "df = df.drop('Proxy Information', axis=1)"
   ]
  },
  {
   "cell_type": "markdown",
   "metadata": {},
   "source": [
    "### casting data type"
   ]
  },
  {
   "cell_type": "code",
   "execution_count": 15,
   "metadata": {},
   "outputs": [
    {
     "name": "stdout",
     "output_type": "stream",
     "text": [
      "<class 'pandas.core.frame.DataFrame'>\n",
      "RangeIndex: 40000 entries, 0 to 39999\n",
      "Data columns (total 25 columns):\n",
      " #   Column                  Non-Null Count  Dtype   \n",
      "---  ------                  --------------  -----   \n",
      " 0   Timestamp               40000 non-null  object  \n",
      " 1   Source IP Address       40000 non-null  object  \n",
      " 2   Destination IP Address  40000 non-null  object  \n",
      " 3   Source Port             40000 non-null  int64   \n",
      " 4   Destination Port        40000 non-null  int64   \n",
      " 5   Protocol                40000 non-null  category\n",
      " 6   Packet Length           40000 non-null  int64   \n",
      " 7   Packet Type             40000 non-null  category\n",
      " 8   Traffic Type            40000 non-null  category\n",
      " 9   Payload Data            40000 non-null  object  \n",
      " 10  Malware Indicators      20000 non-null  category\n",
      " 11  Anomaly Scores          40000 non-null  float64 \n",
      " 12  Alerts/Warnings         19933 non-null  category\n",
      " 13  Attack Type             40000 non-null  category\n",
      " 14  Attack Signature        40000 non-null  category\n",
      " 15  Action Taken            40000 non-null  category\n",
      " 16  Severity Level          40000 non-null  category\n",
      " 17  User Information        40000 non-null  object  \n",
      " 18  Device Information      40000 non-null  object  \n",
      " 19  Network Segment         40000 non-null  category\n",
      " 20  Geo-location Data       40000 non-null  object  \n",
      " 21  Proxy Information       20149 non-null  object  \n",
      " 22  Firewall Logs           20039 non-null  category\n",
      " 23  IDS/IPS Alerts          19950 non-null  category\n",
      " 24  Log Source              40000 non-null  category\n",
      "dtypes: category(13), float64(1), int64(3), object(8)\n",
      "memory usage: 4.2+ MB\n"
     ]
    }
   ],
   "source": [
    "df.info()"
   ]
  },
  {
   "cell_type": "code",
   "execution_count": 14,
   "metadata": {},
   "outputs": [],
   "source": [
    "column_dtypes_for_new = {   \n",
    "    \"Protocol\": \"category\",\n",
    "    \"Packet Length\": int,\n",
    "    \"Packet Type\": \"category\",\n",
    "    \"Traffic Type\": \"category\",\n",
    "    \"Malware Indicators\": \"category\",\n",
    "    \"Anomaly Scores\": float,\n",
    "    \"Alerts/Warnings\": \"category\",\n",
    "    \"Attack Type\": \"category\",\n",
    "    \"Attack Signature\": \"category\",\n",
    "    \"Action Taken\": \"category\",\n",
    "    \"Severity Level\": \"category\",\n",
    "    \"Network Segment\": \"category\",\n",
    "    \"Firewall Logs\": \"category\",\n",
    "    \"IDS/IPS Alerts\": \"category\",\n",
    "    \"Log Source\": \"category\",\n",
    "    #\"attack_Index\": int\n",
    "    }\n",
    "\n",
    "# Convert all other columns based on dictionary\n",
    "for col, dtype in column_dtypes_for_new.items():\n",
    "    if dtype == str:\n",
    "        df[col] = df[col].astype(\"string\")  # Explicitly enforce str type\n",
    "    else:\n",
    "        df[col] = df[col].astype(dtype)"
   ]
  },
  {
   "cell_type": "markdown",
   "metadata": {},
   "source": [
    "<b> Data stored in folder data/processed <b>\n",
    "\n",
    "-   40 000 rows * 24 columns \n"
   ]
  }
 ],
 "metadata": {
  "kernelspec": {
   "display_name": "Python 3",
   "language": "python",
   "name": "python3"
  },
  "language_info": {
   "codemirror_mode": {
    "name": "ipython",
    "version": 3
   },
   "file_extension": ".py",
   "mimetype": "text/x-python",
   "name": "python",
   "nbconvert_exporter": "python",
   "pygments_lexer": "ipython3",
   "version": "3.12.3"
  }
 },
 "nbformat": 4,
 "nbformat_minor": 2
}
