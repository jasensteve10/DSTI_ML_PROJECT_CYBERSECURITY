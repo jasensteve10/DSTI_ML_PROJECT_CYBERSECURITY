{
 "cells": [
  {
   "cell_type": "markdown",
   "metadata": {},
   "source": [
    "# Model training"
   ]
  },
  {
   "cell_type": "code",
   "execution_count": 135,
   "metadata": {},
   "outputs": [],
   "source": [
    "## import \n",
    "import pandas as pd\n",
    "import numpy as np\n",
    "import xgboost as xgb\n",
    "import joblib\n",
    "\n",
    "from sklearn.model_selection import train_test_split,cross_val_score\n",
    "from sklearn.naive_bayes import GaussianNB\n",
    "from sklearn import tree\n",
    "from sklearn.metrics import (\n",
    "    accuracy_score,\n",
    "    confusion_matrix,\n",
    "    ConfusionMatrixDisplay,\n",
    "    f1_score,\n",
    "    precision_score,\n",
    "    root_mean_squared_error,\n",
    "    classification_report\n",
    ")\n",
    "from sklearn.multioutput import MultiOutputClassifier\n",
    "from sklearn.neighbors import KNeighborsClassifier\n",
    "from sklearn.ensemble import GradientBoostingClassifier\n",
    "from sklearn.inspection import permutation_importance\n",
    "from sklearn.gaussian_process import GaussianProcessClassifier\n",
    "from sklearn.ensemble import RandomForestClassifier\n",
    "from sklearn.linear_model import LogisticRegression\n",
    "from sklearn.svm import SVC\n",
    "from sklearn.tree import DecisionTreeClassifier\n",
    "\n",
    "\n",
    "import matplotlib.pyplot as plt \n"
   ]
  },
  {
   "cell_type": "markdown",
   "metadata": {},
   "source": [
    "loading dataframe"
   ]
  },
  {
   "cell_type": "code",
   "execution_count": 5,
   "metadata": {},
   "outputs": [
    {
     "data": {
      "text/html": [
       "<div>\n",
       "<style scoped>\n",
       "    .dataframe tbody tr th:only-of-type {\n",
       "        vertical-align: middle;\n",
       "    }\n",
       "\n",
       "    .dataframe tbody tr th {\n",
       "        vertical-align: top;\n",
       "    }\n",
       "\n",
       "    .dataframe thead th {\n",
       "        text-align: right;\n",
       "    }\n",
       "</style>\n",
       "<table border=\"1\" class=\"dataframe\">\n",
       "  <thead>\n",
       "    <tr style=\"text-align: right;\">\n",
       "      <th></th>\n",
       "      <th>Packet Length</th>\n",
       "      <th>Anomaly Scores</th>\n",
       "      <th>Attack Type</th>\n",
       "      <th>Severity Level</th>\n",
       "      <th>Protocol_ICMP</th>\n",
       "      <th>Protocol_TCP</th>\n",
       "      <th>Protocol_UDP</th>\n",
       "      <th>Packet Type_Control</th>\n",
       "      <th>Packet Type_Data</th>\n",
       "      <th>Traffic Type_DNS</th>\n",
       "      <th>...</th>\n",
       "      <th>Action Taken_Logged.1</th>\n",
       "      <th>Network Segment_Segment A.1</th>\n",
       "      <th>Network Segment_Segment B.1</th>\n",
       "      <th>Network Segment_Segment C.1</th>\n",
       "      <th>Firewall Logs_Log Data.1</th>\n",
       "      <th>Firewall Logs_No Log Data.1</th>\n",
       "      <th>IDS/IPS Alerts_Alert Data.1</th>\n",
       "      <th>IDS/IPS Alerts_No Alert Data.1</th>\n",
       "      <th>Log Source_Firewall.1</th>\n",
       "      <th>Log Source_Server.1</th>\n",
       "    </tr>\n",
       "    <tr>\n",
       "      <th>Attack_Index</th>\n",
       "      <th></th>\n",
       "      <th></th>\n",
       "      <th></th>\n",
       "      <th></th>\n",
       "      <th></th>\n",
       "      <th></th>\n",
       "      <th></th>\n",
       "      <th></th>\n",
       "      <th></th>\n",
       "      <th></th>\n",
       "      <th></th>\n",
       "      <th></th>\n",
       "      <th></th>\n",
       "      <th></th>\n",
       "      <th></th>\n",
       "      <th></th>\n",
       "      <th></th>\n",
       "      <th></th>\n",
       "      <th></th>\n",
       "      <th></th>\n",
       "      <th></th>\n",
       "    </tr>\n",
       "  </thead>\n",
       "  <tbody>\n",
       "    <tr>\n",
       "      <th>0</th>\n",
       "      <td>503</td>\n",
       "      <td>28.67</td>\n",
       "      <td>Malware</td>\n",
       "      <td>1</td>\n",
       "      <td>1</td>\n",
       "      <td>0</td>\n",
       "      <td>0</td>\n",
       "      <td>0</td>\n",
       "      <td>1</td>\n",
       "      <td>0</td>\n",
       "      <td>...</td>\n",
       "      <td>1</td>\n",
       "      <td>1</td>\n",
       "      <td>0</td>\n",
       "      <td>0</td>\n",
       "      <td>1</td>\n",
       "      <td>0</td>\n",
       "      <td>0</td>\n",
       "      <td>1</td>\n",
       "      <td>0</td>\n",
       "      <td>1</td>\n",
       "    </tr>\n",
       "    <tr>\n",
       "      <th>1</th>\n",
       "      <td>1174</td>\n",
       "      <td>51.50</td>\n",
       "      <td>Malware</td>\n",
       "      <td>1</td>\n",
       "      <td>1</td>\n",
       "      <td>0</td>\n",
       "      <td>0</td>\n",
       "      <td>0</td>\n",
       "      <td>1</td>\n",
       "      <td>0</td>\n",
       "      <td>...</td>\n",
       "      <td>0</td>\n",
       "      <td>0</td>\n",
       "      <td>1</td>\n",
       "      <td>0</td>\n",
       "      <td>1</td>\n",
       "      <td>0</td>\n",
       "      <td>0</td>\n",
       "      <td>1</td>\n",
       "      <td>1</td>\n",
       "      <td>0</td>\n",
       "    </tr>\n",
       "    <tr>\n",
       "      <th>2</th>\n",
       "      <td>306</td>\n",
       "      <td>87.42</td>\n",
       "      <td>DDoS</td>\n",
       "      <td>1</td>\n",
       "      <td>0</td>\n",
       "      <td>0</td>\n",
       "      <td>1</td>\n",
       "      <td>1</td>\n",
       "      <td>0</td>\n",
       "      <td>0</td>\n",
       "      <td>...</td>\n",
       "      <td>0</td>\n",
       "      <td>0</td>\n",
       "      <td>0</td>\n",
       "      <td>1</td>\n",
       "      <td>1</td>\n",
       "      <td>0</td>\n",
       "      <td>1</td>\n",
       "      <td>0</td>\n",
       "      <td>1</td>\n",
       "      <td>0</td>\n",
       "    </tr>\n",
       "    <tr>\n",
       "      <th>3</th>\n",
       "      <td>385</td>\n",
       "      <td>15.79</td>\n",
       "      <td>Malware</td>\n",
       "      <td>2</td>\n",
       "      <td>0</td>\n",
       "      <td>0</td>\n",
       "      <td>1</td>\n",
       "      <td>0</td>\n",
       "      <td>1</td>\n",
       "      <td>0</td>\n",
       "      <td>...</td>\n",
       "      <td>0</td>\n",
       "      <td>0</td>\n",
       "      <td>1</td>\n",
       "      <td>0</td>\n",
       "      <td>0</td>\n",
       "      <td>1</td>\n",
       "      <td>1</td>\n",
       "      <td>0</td>\n",
       "      <td>1</td>\n",
       "      <td>0</td>\n",
       "    </tr>\n",
       "    <tr>\n",
       "      <th>4</th>\n",
       "      <td>1462</td>\n",
       "      <td>0.52</td>\n",
       "      <td>DDoS</td>\n",
       "      <td>1</td>\n",
       "      <td>0</td>\n",
       "      <td>1</td>\n",
       "      <td>0</td>\n",
       "      <td>0</td>\n",
       "      <td>1</td>\n",
       "      <td>1</td>\n",
       "      <td>...</td>\n",
       "      <td>0</td>\n",
       "      <td>0</td>\n",
       "      <td>0</td>\n",
       "      <td>1</td>\n",
       "      <td>0</td>\n",
       "      <td>1</td>\n",
       "      <td>1</td>\n",
       "      <td>0</td>\n",
       "      <td>1</td>\n",
       "      <td>0</td>\n",
       "    </tr>\n",
       "  </tbody>\n",
       "</table>\n",
       "<p>5 rows × 56 columns</p>\n",
       "</div>"
      ],
      "text/plain": [
       "              Packet Length  Anomaly Scores Attack Type  Severity Level  \\\n",
       "Attack_Index                                                              \n",
       "0                       503           28.67     Malware               1   \n",
       "1                      1174           51.50     Malware               1   \n",
       "2                       306           87.42        DDoS               1   \n",
       "3                       385           15.79     Malware               2   \n",
       "4                      1462            0.52        DDoS               1   \n",
       "\n",
       "              Protocol_ICMP  Protocol_TCP  Protocol_UDP  Packet Type_Control  \\\n",
       "Attack_Index                                                                   \n",
       "0                         1             0             0                    0   \n",
       "1                         1             0             0                    0   \n",
       "2                         0             0             1                    1   \n",
       "3                         0             0             1                    0   \n",
       "4                         0             1             0                    0   \n",
       "\n",
       "              Packet Type_Data  Traffic Type_DNS  ...  Action Taken_Logged.1  \\\n",
       "Attack_Index                                      ...                          \n",
       "0                            1                 0  ...                      1   \n",
       "1                            1                 0  ...                      0   \n",
       "2                            0                 0  ...                      0   \n",
       "3                            1                 0  ...                      0   \n",
       "4                            1                 1  ...                      0   \n",
       "\n",
       "              Network Segment_Segment A.1  Network Segment_Segment B.1  \\\n",
       "Attack_Index                                                             \n",
       "0                                       1                            0   \n",
       "1                                       0                            1   \n",
       "2                                       0                            0   \n",
       "3                                       0                            1   \n",
       "4                                       0                            0   \n",
       "\n",
       "              Network Segment_Segment C.1  Firewall Logs_Log Data.1  \\\n",
       "Attack_Index                                                          \n",
       "0                                       0                         1   \n",
       "1                                       0                         1   \n",
       "2                                       1                         1   \n",
       "3                                       0                         0   \n",
       "4                                       1                         0   \n",
       "\n",
       "              Firewall Logs_No Log Data.1  IDS/IPS Alerts_Alert Data.1  \\\n",
       "Attack_Index                                                             \n",
       "0                                       0                            0   \n",
       "1                                       0                            0   \n",
       "2                                       0                            1   \n",
       "3                                       1                            1   \n",
       "4                                       1                            1   \n",
       "\n",
       "              IDS/IPS Alerts_No Alert Data.1  Log Source_Firewall.1  \\\n",
       "Attack_Index                                                          \n",
       "0                                          1                      0   \n",
       "1                                          1                      1   \n",
       "2                                          0                      1   \n",
       "3                                          0                      1   \n",
       "4                                          0                      1   \n",
       "\n",
       "              Log Source_Server.1  \n",
       "Attack_Index                       \n",
       "0                               1  \n",
       "1                               0  \n",
       "2                               0  \n",
       "3                               0  \n",
       "4                               0  \n",
       "\n",
       "[5 rows x 56 columns]"
      ]
     },
     "execution_count": 5,
     "metadata": {},
     "output_type": "execute_result"
    }
   ],
   "source": [
    "df = pd.read_csv('../data/processed/cleaned_cybersecurity_attacks_encoded.csv', index_col= 'Attack_Index')\n",
    "df.head()\n"
   ]
  },
  {
   "cell_type": "markdown",
   "metadata": {},
   "source": [
    "## Dataset Splitting"
   ]
  },
  {
   "cell_type": "code",
   "execution_count": 8,
   "metadata": {},
   "outputs": [
    {
     "data": {
      "text/plain": [
       "((32000, 56), (8000, 56))"
      ]
     },
     "execution_count": 8,
     "metadata": {},
     "output_type": "execute_result"
    }
   ],
   "source": [
    "df_train, df_test = train_test_split(df,test_size = 0.2, random_state=42)\n",
    "df_train.shape, df_test.shape"
   ]
  },
  {
   "cell_type": "markdown",
   "metadata": {},
   "source": [
    "let see the distribution "
   ]
  },
  {
   "cell_type": "code",
   "execution_count": 11,
   "metadata": {},
   "outputs": [
    {
     "name": "stdout",
     "output_type": "stream",
     "text": [
      "1.001325\n",
      "0.9975625\n",
      "1.016375\n"
     ]
    }
   ],
   "source": [
    "print(df['Severity Level'].mean())\n",
    "print(df_train['Severity Level'].mean())\n",
    "print(df_test['Severity Level'].mean())"
   ]
  },
  {
   "cell_type": "markdown",
   "metadata": {},
   "source": [
    "### Dividing the target column and feature columns"
   ]
  },
  {
   "cell_type": "code",
   "execution_count": 14,
   "metadata": {},
   "outputs": [],
   "source": [
    "# list of columns features to be used for training\n",
    "features = [\n",
    "    'Packet Length', \n",
    "    'Anomaly Scores', \n",
    "    'Severity Level', \n",
    "    'Protocol_ICMP',\n",
    "    'Protocol_TCP', \n",
    "    'Protocol_UDP', \n",
    "    'Packet Type_Control',\n",
    "    'Packet Type_Data', \n",
    "    'Traffic Type_DNS', \n",
    "    'Traffic Type_FTP',\n",
    "    'Traffic Type_HTTP', \n",
    "    'Malware Indicators_IoC Detected',\n",
    "    'Malware Indicators_No IoC Detected', \n",
    "    'Alerts/Warnings_Alert Triggered',\n",
    "    'Alerts/Warnings_No Alert Triggered', \n",
    "    'Attack Signature_Known Pattern A', \n",
    "    'Attack Signature_Known Pattern B',\n",
    "    'Action Taken_Blocked', \n",
    "    'Action Taken_Ignored',\n",
    "    'Action Taken_Logged',\n",
    "    'Network Segment_Segment A', \n",
    "    'Network Segment_Segment B',\n",
    "    'Network Segment_Segment C',\n",
    "    'Firewall Logs_Log Data',\n",
    "    'Firewall Logs_No Log Data',\n",
    "    'IDS/IPS Alerts_Alert Data',\n",
    "    'IDS/IPS Alerts_No Alert Data',\n",
    "    'Log Source_Firewall',\n",
    "    'Log Source_Server',\n",
    "    'Protocol_ICMP',\n",
    "    'Protocol_TCP',\n",
    "    'Protocol_UDP',\n",
    "    'Packet Type_Control',\n",
    "    'Packet Type_Data',\n",
    "    'Traffic Type_DNS',\n",
    "    'Traffic Type_FTP',\n",
    "    'Traffic Type_HTTP',\n",
    "    'Malware Indicators_IoC Detected',\n",
    "    'Malware Indicators_No IoC Detected',\n",
    "    'Alerts/Warnings_Alert Triggered',\n",
    "    'Alerts/Warnings_No Alert Triggered',\n",
    "    'Attack Signature_Known Pattern A', \n",
    "    'Attack Signature_Known Pattern B',\n",
    "    'Action Taken_Blocked', \n",
    "    'Action Taken_Ignored', 'Action Taken_Logged',\n",
    "    'Network Segment_Segment A', \n",
    "    'Network Segment_Segment B',\n",
    "    'Network Segment_Segment C', \n",
    "    'Firewall Logs_Log Data',\n",
    "    'Firewall Logs_No Log Data', \n",
    "    'IDS/IPS Alerts_Alert Data',\n",
    "    'IDS/IPS Alerts_No Alert Data',\n",
    "    'Log Source_Firewall',\n",
    "    'Log Source_Server'\n",
    "]\n",
    "\n",
    "target_column = 'attack type'"
   ]
  },
  {
   "cell_type": "markdown",
   "metadata": {},
   "source": [
    "### get the values of the features columns for the training data\n"
   ]
  },
  {
   "cell_type": "code",
   "execution_count": 17,
   "metadata": {},
   "outputs": [],
   "source": [
    "X_train = df_train.loc[:,features].values\n",
    "y_train = df_train['Attack Type'].values"
   ]
  },
  {
   "cell_type": "markdown",
   "metadata": {},
   "source": [
    "### get the values of the columns for the test data"
   ]
  },
  {
   "cell_type": "code",
   "execution_count": 20,
   "metadata": {},
   "outputs": [],
   "source": [
    "x_test = df_test.loc[:,features].values\n",
    "y_test = df_test['Attack Type'].values"
   ]
  },
  {
   "cell_type": "markdown",
   "metadata": {},
   "source": [
    "# Testing models "
   ]
  },
  {
   "cell_type": "markdown",
   "metadata": {},
   "source": [
    "our problem is a classification problem , we then tried the following classification algorithms :\n",
    "\n",
    "1) Logistic Regression\n",
    "2) Decision tree classifier\n",
    "3) Random Forest Classifier\n",
    "4) XGboost\n",
    "5) Naive Bayes\n",
    "6) SGD classifier "
   ]
  },
  {
   "cell_type": "markdown",
   "metadata": {},
   "source": [
    "## Logistic regression "
   ]
  },
  {
   "cell_type": "code",
   "execution_count": 25,
   "metadata": {},
   "outputs": [],
   "source": [
    "lr_model = LogisticRegression(random_state=42,max_iter=1500)"
   ]
  },
  {
   "cell_type": "code",
   "execution_count": 127,
   "metadata": {},
   "outputs": [],
   "source": [
    "# here we train the model on the training data\n",
    "lr_model.fit(X=X_train, y=y_train)\n",
    "\n",
    "y_test_predicted = dt_model.predict(x_test)"
   ]
  },
  {
   "cell_type": "code",
   "execution_count": 128,
   "metadata": {},
   "outputs": [
    {
     "data": {
      "text/html": [
       "<div>\n",
       "<style scoped>\n",
       "    .dataframe tbody tr th:only-of-type {\n",
       "        vertical-align: middle;\n",
       "    }\n",
       "\n",
       "    .dataframe tbody tr th {\n",
       "        vertical-align: top;\n",
       "    }\n",
       "\n",
       "    .dataframe thead th {\n",
       "        text-align: right;\n",
       "    }\n",
       "</style>\n",
       "<table border=\"1\" class=\"dataframe\">\n",
       "  <thead>\n",
       "    <tr style=\"text-align: right;\">\n",
       "      <th></th>\n",
       "      <th>y_test_DDoS</th>\n",
       "      <th>y_test_Intrusion</th>\n",
       "      <th>y_test_Malware</th>\n",
       "    </tr>\n",
       "  </thead>\n",
       "  <tbody>\n",
       "    <tr>\n",
       "      <th>y_predicted_DDoS</th>\n",
       "      <td>861</td>\n",
       "      <td>900</td>\n",
       "      <td>875</td>\n",
       "    </tr>\n",
       "    <tr>\n",
       "      <th>y_predicted_Intrusion</th>\n",
       "      <td>879</td>\n",
       "      <td>935</td>\n",
       "      <td>907</td>\n",
       "    </tr>\n",
       "    <tr>\n",
       "      <th>y_predicted_Malware</th>\n",
       "      <td>905</td>\n",
       "      <td>848</td>\n",
       "      <td>890</td>\n",
       "    </tr>\n",
       "  </tbody>\n",
       "</table>\n",
       "</div>"
      ],
      "text/plain": [
       "                      y_test_DDoS y_test_Intrusion y_test_Malware\n",
       "y_predicted_DDoS              861              900            875\n",
       "y_predicted_Intrusion         879              935            907\n",
       "y_predicted_Malware           905              848            890"
      ]
     },
     "execution_count": 128,
     "metadata": {},
     "output_type": "execute_result"
    }
   ],
   "source": [
    "cf = pd.DataFrame(\n",
    "    columns=[\"y_test_DDoS\",\"y_test_Intrusion\",\"y_test_Malware\"],index=[\"y_predicted_DDoS\",\"y_predicted_Intrusion\",\"y_predicted_Malware\"]\n",
    ")\n",
    "\n",
    "cf.loc[:,:] = confusion_matrix(y_true= y_test,y_pred= y_test_predicted)\n",
    "cf"
   ]
  },
  {
   "cell_type": "code",
   "execution_count": 131,
   "metadata": {},
   "outputs": [
    {
     "data": {
      "text/html": [
       "<div>\n",
       "<style scoped>\n",
       "    .dataframe tbody tr th:only-of-type {\n",
       "        vertical-align: middle;\n",
       "    }\n",
       "\n",
       "    .dataframe tbody tr th {\n",
       "        vertical-align: top;\n",
       "    }\n",
       "\n",
       "    .dataframe thead th {\n",
       "        text-align: right;\n",
       "    }\n",
       "</style>\n",
       "<table border=\"1\" class=\"dataframe\">\n",
       "  <thead>\n",
       "    <tr style=\"text-align: right;\">\n",
       "      <th></th>\n",
       "      <th>y_test_DDoS</th>\n",
       "      <th>y_test_Intrusion</th>\n",
       "      <th>y_test_Malware</th>\n",
       "    </tr>\n",
       "  </thead>\n",
       "  <tbody>\n",
       "    <tr>\n",
       "      <th>y_predicted_DDoS</th>\n",
       "      <td>0.107625</td>\n",
       "      <td>0.1125</td>\n",
       "      <td>0.109375</td>\n",
       "    </tr>\n",
       "    <tr>\n",
       "      <th>y_predicted_Intrusion</th>\n",
       "      <td>0.109875</td>\n",
       "      <td>0.116875</td>\n",
       "      <td>0.113375</td>\n",
       "    </tr>\n",
       "    <tr>\n",
       "      <th>y_predicted_Malware</th>\n",
       "      <td>0.113125</td>\n",
       "      <td>0.106</td>\n",
       "      <td>0.11125</td>\n",
       "    </tr>\n",
       "  </tbody>\n",
       "</table>\n",
       "</div>"
      ],
      "text/plain": [
       "                      y_test_DDoS y_test_Intrusion y_test_Malware\n",
       "y_predicted_DDoS         0.107625           0.1125       0.109375\n",
       "y_predicted_Intrusion    0.109875         0.116875       0.113375\n",
       "y_predicted_Malware      0.113125            0.106        0.11125"
      ]
     },
     "execution_count": 131,
     "metadata": {},
     "output_type": "execute_result"
    }
   ],
   "source": [
    "cf/len(y_test)"
   ]
  },
  {
   "cell_type": "code",
   "execution_count": 133,
   "metadata": {},
   "outputs": [
    {
     "name": "stdout",
     "output_type": "stream",
     "text": [
      "              precision    recall  f1-score   support\n",
      "\n",
      "        DDoS       0.33      0.33      0.33      2636\n",
      "   Intrusion       0.35      0.34      0.35      2721\n",
      "     Malware       0.33      0.34      0.33      2643\n",
      "\n",
      "    accuracy                           0.34      8000\n",
      "   macro avg       0.34      0.34      0.34      8000\n",
      "weighted avg       0.34      0.34      0.34      8000\n",
      "\n"
     ]
    }
   ],
   "source": [
    "report =classification_report(y_true=y_test, y_pred=y_test_predicted)\n",
    "print(report)"
   ]
  },
  {
   "cell_type": "markdown",
   "metadata": {},
   "source": [
    "## Decision Tree Classifier"
   ]
  },
  {
   "cell_type": "code",
   "execution_count": 121,
   "metadata": {},
   "outputs": [
    {
     "data": {
      "text/html": [
       "<div>\n",
       "<style scoped>\n",
       "    .dataframe tbody tr th:only-of-type {\n",
       "        vertical-align: middle;\n",
       "    }\n",
       "\n",
       "    .dataframe tbody tr th {\n",
       "        vertical-align: top;\n",
       "    }\n",
       "\n",
       "    .dataframe thead th {\n",
       "        text-align: right;\n",
       "    }\n",
       "</style>\n",
       "<table border=\"1\" class=\"dataframe\">\n",
       "  <thead>\n",
       "    <tr style=\"text-align: right;\">\n",
       "      <th></th>\n",
       "      <th>y_test_DDoS</th>\n",
       "      <th>y_test_Intrusion</th>\n",
       "      <th>y_test_Malware</th>\n",
       "    </tr>\n",
       "  </thead>\n",
       "  <tbody>\n",
       "    <tr>\n",
       "      <th>y_predicted_DDoS</th>\n",
       "      <td>861</td>\n",
       "      <td>900</td>\n",
       "      <td>875</td>\n",
       "    </tr>\n",
       "    <tr>\n",
       "      <th>y_predicted_Intrusion</th>\n",
       "      <td>879</td>\n",
       "      <td>935</td>\n",
       "      <td>907</td>\n",
       "    </tr>\n",
       "    <tr>\n",
       "      <th>y_predicted_Malware</th>\n",
       "      <td>905</td>\n",
       "      <td>848</td>\n",
       "      <td>890</td>\n",
       "    </tr>\n",
       "  </tbody>\n",
       "</table>\n",
       "</div>"
      ],
      "text/plain": [
       "                      y_test_DDoS y_test_Intrusion y_test_Malware\n",
       "y_predicted_DDoS              861              900            875\n",
       "y_predicted_Intrusion         879              935            907\n",
       "y_predicted_Malware           905              848            890"
      ]
     },
     "execution_count": 121,
     "metadata": {},
     "output_type": "execute_result"
    }
   ],
   "source": [
    "dt_model = DecisionTreeClassifier(random_state=42)\n",
    "\n",
    "dt_model.fit(X=X_train,y=y_train)\n",
    "\n",
    "y_test_predicted_dt = dt_model.predict(x_test)\n",
    "\n",
    "cf_dt = pd.DataFrame(\n",
    "    columns=[\"y_test_DDoS\",\"y_test_Intrusion\",\"y_test_Malware\"],index=[\"y_predicted_DDoS\",\"y_predicted_Intrusion\",\"y_predicted_Malware\"]\n",
    ")\n",
    "cf_dt.loc[:,:] = confusion_matrix(y_true= y_test,y_pred= y_test_predicted_dt)\n",
    "cf_dt"
   ]
  },
  {
   "cell_type": "code",
   "execution_count": 123,
   "metadata": {},
   "outputs": [
    {
     "name": "stdout",
     "output_type": "stream",
     "text": [
      "              precision    recall  f1-score   support\n",
      "\n",
      "        DDoS       0.33      0.33      0.33      2636\n",
      "   Intrusion       0.35      0.34      0.35      2721\n",
      "     Malware       0.33      0.34      0.33      2643\n",
      "\n",
      "    accuracy                           0.34      8000\n",
      "   macro avg       0.34      0.34      0.34      8000\n",
      "weighted avg       0.34      0.34      0.34      8000\n",
      "\n"
     ]
    }
   ],
   "source": [
    "report_dt = classification_report(y_pred=y_test_predicted_dt,y_true=y_test)\n",
    "print(report_dt)"
   ]
  },
  {
   "cell_type": "markdown",
   "metadata": {},
   "source": [
    "## Random forest classifier"
   ]
  },
  {
   "cell_type": "code",
   "execution_count": 115,
   "metadata": {},
   "outputs": [],
   "source": [
    "rf_model = RandomForestClassifier(n_estimators=100, random_state=42)\n",
    "rf_model.fit(X=X_train,y=y_train)\n",
    "y_test_predicted_rf = rf_model.predict(x_test)"
   ]
  },
  {
   "cell_type": "code",
   "execution_count": 116,
   "metadata": {},
   "outputs": [
    {
     "name": "stdout",
     "output_type": "stream",
     "text": [
      "Confusion Matrix:\n",
      " [[907 844 885]\n",
      " [935 873 913]\n",
      " [903 851 889]]\n"
     ]
    }
   ],
   "source": [
    "## confusion matrix for Random Forest\n",
    "cm = confusion_matrix(y_true=y_test,y_pred=y_test_predicted_rf)\n",
    "print(\"Confusion Matrix:\\n\", cm)"
   ]
  },
  {
   "cell_type": "code",
   "execution_count": 117,
   "metadata": {},
   "outputs": [
    {
     "name": "stdout",
     "output_type": "stream",
     "text": [
      "           DDoS  Intrusion  Malware\n",
      "DDoS        907        844      885\n",
      "Intrusion   935        873      913\n",
      "Malware     903        851      889\n"
     ]
    }
   ],
   "source": [
    "confusion_matrix_df = pd.DataFrame(cm, index=[\"DDoS\", \"Intrusion\", \"Malware\"], columns=[\"DDoS\", \"Intrusion\", \"Malware\"])\n",
    "print(confusion_matrix_df)"
   ]
  },
  {
   "cell_type": "code",
   "execution_count": 84,
   "metadata": {},
   "outputs": [
    {
     "name": "stdout",
     "output_type": "stream",
     "text": [
      "              precision    recall  f1-score   support\n",
      "\n",
      "        DDoS       0.33      0.34      0.34      2636\n",
      "   Intrusion       0.34      0.32      0.33      2721\n",
      "     Malware       0.33      0.34      0.33      2643\n",
      "\n",
      "    accuracy                           0.33      8000\n",
      "   macro avg       0.33      0.33      0.33      8000\n",
      "weighted avg       0.33      0.33      0.33      8000\n",
      "\n"
     ]
    }
   ],
   "source": [
    "report_rf = classification_report(y_true=y_test, y_pred=y_test_predicted_rf)\n",
    "print(report_rf)"
   ]
  },
  {
   "cell_type": "code",
   "execution_count": 99,
   "metadata": {},
   "outputs": [
    {
     "name": "stdout",
     "output_type": "stream",
     "text": [
      "Cross-Validation Accuracy:  0.33196875\n",
      "Cross-Validation Standard Deviation:  0.008265964666933917\n"
     ]
    }
   ],
   "source": [
    "# Cross-Validation Accuracy\n",
    "cv_scores = cross_val_score(rf_model, X_train, y_train, cv=5)\n",
    "print(\"Cross-Validation Accuracy: \", cv_scores.mean())  \n",
    "print(\"Cross-Validation Standard Deviation: \", cv_scores.std())"
   ]
  },
  {
   "cell_type": "code",
   "execution_count": null,
   "metadata": {},
   "outputs": [],
   "source": [
    "# check feature importance\n",
    "feature_importances = pd.DataFrame({'Feature': features, 'Importance': rf_model.feature_importances_})\n",
    "print(feature_importances.sort_values(by='Importance', ascending=False))"
   ]
  },
  {
   "cell_type": "markdown",
   "metadata": {},
   "source": [
    "## naives bayes "
   ]
  },
  {
   "cell_type": "code",
   "execution_count": null,
   "metadata": {},
   "outputs": [],
   "source": [
    "model = GaussianNB()\n",
    "model.fit(X=X_train,y=y_train)\n",
    "y_test_predicted_gnb = model.predict(x_test)\n",
    "cm_gnb = confusion_matrix(y_true=y_test,y_pred=y_test_predicted_gnb)\n",
    "cm_gnb_df = pd.DataFrame(cm_gnb, index=[\"DDoS\", \"Intrusion\", \"Malware\"], columns=[\"DDoS\", \"Intrusion\", \"Malware\"])\n",
    "print(cm_gnb_df)"
   ]
  },
  {
   "cell_type": "code",
   "execution_count": null,
   "metadata": {},
   "outputs": [],
   "source": [
    "#report for GaussianNB\n",
    "report_gnb = classification_report(y_true=y_test, y_pred=y_test_predicted_gnb)\n",
    "print(report_gnb)"
   ]
  },
  {
   "cell_type": "code",
   "execution_count": null,
   "metadata": {},
   "outputs": [],
   "source": [
    "\n",
    "# Cross-Validation Accuracy for GaussianNB  \n",
    "cv_scores_gnb = cross_val_score(model, X_train, y_train, cv=5)\n",
    "print(\"Cross-Validation Accuracy for GaussianNB: \", cv_scores_gnb.mean())"
   ]
  },
  {
   "cell_type": "markdown",
   "metadata": {},
   "source": [
    "## SGD classifier"
   ]
  },
  {
   "cell_type": "code",
   "execution_count": null,
   "metadata": {},
   "outputs": [],
   "source": [
    "clf =  GradientBoostingClassifier(loss=\"log_loss\", random_state=42)\n",
    "clf.fit(X=X_train,y=y_train)\n",
    "y_test_predicted_gbc = clf.predict(x_test)\n"
   ]
  },
  {
   "cell_type": "code",
   "execution_count": null,
   "metadata": {},
   "outputs": [],
   "source": [
    "report_gbc = classification_report(y_true=y_test, y_pred=y_test_predicted_gbc)\n",
    "print(report_gbc)   "
   ]
  },
  {
   "cell_type": "markdown",
   "metadata": {},
   "source": [
    "## Xgboost"
   ]
  },
  {
   "cell_type": "code",
   "execution_count": 101,
   "metadata": {},
   "outputs": [
    {
     "name": "stdout",
     "output_type": "stream",
     "text": [
      "Confusion Matrix:\n",
      " [[946 782 908]\n",
      " [979 818 924]\n",
      " [987 779 877]]\n"
     ]
    }
   ],
   "source": [
    "# Encode target variable\n",
    "from sklearn.preprocessing import LabelEncoder\n",
    "\n",
    "label_encoder = LabelEncoder()\n",
    "y_train_encoded = label_encoder.fit_transform(y_train)\n",
    "y_test_encoded = label_encoder.transform(y_test)\n",
    "\n",
    "# Train XGBoost Model\n",
    "xgb_model = xgb.XGBClassifier(n_estimators=100, max_depth=6, learning_rate=0.1, random_state=42)\n",
    "xgb_model.fit(X=X_train, y=y_train_encoded)\n",
    "y_test_predicted_xgb = xgb_model.predict(x_test)\n",
    "\n",
    "# Decode predictions back to original labels\n",
    "y_test_predicted_xgb_decoded = label_encoder.inverse_transform(y_test_predicted_xgb)\n",
    "\n",
    "# Confusion matrix\n",
    "cm_xgb = confusion_matrix(y_true=y_test, y_pred=y_test_predicted_xgb_decoded)\n",
    "print(\"Confusion Matrix:\\n\", cm_xgb)"
   ]
  },
  {
   "cell_type": "code",
   "execution_count": 103,
   "metadata": {},
   "outputs": [
    {
     "name": "stdout",
     "output_type": "stream",
     "text": [
      "              precision    recall  f1-score   support\n",
      "\n",
      "        DDoS       0.32      0.36      0.34      2636\n",
      "   Intrusion       0.34      0.30      0.32      2721\n",
      "     Malware       0.32      0.33      0.33      2643\n",
      "\n",
      "    accuracy                           0.33      8000\n",
      "   macro avg       0.33      0.33      0.33      8000\n",
      "weighted avg       0.33      0.33      0.33      8000\n",
      "\n"
     ]
    }
   ],
   "source": [
    "#report for XGBoost\n",
    "report_xgb = classification_report(y_true=y_test, y_pred=y_test_predicted_xgb_decoded)\n",
    "print(report_xgb)"
   ]
  },
  {
   "cell_type": "code",
   "execution_count": 107,
   "metadata": {},
   "outputs": [
    {
     "data": {
      "text/plain": [
       "['model.pkl']"
      ]
     },
     "execution_count": 107,
     "metadata": {},
     "output_type": "execute_result"
    }
   ],
   "source": [
    "joblib.dump(xgb_model, \"model.pkl\")"
   ]
  },
  {
   "cell_type": "code",
   "execution_count": 113,
   "metadata": {},
   "outputs": [
    {
     "data": {
      "text/plain": [
       "['label_encoder.pkl']"
      ]
     },
     "execution_count": 113,
     "metadata": {},
     "output_type": "execute_result"
    }
   ],
   "source": [
    "joblib.dump(label_encoder,\"label_encoder.pkl\")"
   ]
  },
  {
   "cell_type": "code",
   "execution_count": null,
   "metadata": {},
   "outputs": [],
   "source": []
  },
  {
   "cell_type": "code",
   "execution_count": null,
   "metadata": {},
   "outputs": [],
   "source": []
  }
 ],
 "metadata": {
  "kernelspec": {
   "display_name": "Python 3 (ipykernel)",
   "language": "python",
   "name": "python3"
  },
  "language_info": {
   "codemirror_mode": {
    "name": "ipython",
    "version": 3
   },
   "file_extension": ".py",
   "mimetype": "text/x-python",
   "name": "python",
   "nbconvert_exporter": "python",
   "pygments_lexer": "ipython3",
   "version": "3.12.7"
  }
 },
 "nbformat": 4,
 "nbformat_minor": 4
}
