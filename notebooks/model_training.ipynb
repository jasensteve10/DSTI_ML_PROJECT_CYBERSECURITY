{
 "cells": [
  {
   "cell_type": "markdown",
   "metadata": {},
   "source": [
    "# Model training"
   ]
  },
  {
   "cell_type": "code",
   "execution_count": 54,
   "metadata": {},
   "outputs": [],
   "source": [
    "## import \n",
    "import pandas as pd\n",
    "import numpy as np\n",
    "import xgboost as xgb\n",
    "\n",
    "from sklearn.model_selection import train_test_split\n",
    "from sklearn.naive_bayes import GaussianNB\n",
    "from sklearn import tree\n",
    "from sklearn.metrics import (\n",
    "    accuracy_score,\n",
    "    confusion_matrix,\n",
    "    ConfusionMatrixDisplay,\n",
    "    f1_score,\n",
    "    precision_score,\n",
    "    root_mean_squared_error,\n",
    ")\n",
    "from sklearn.multioutput import MultiOutputClassifier\n",
    "from sklearn.neighbors import KNeighborsClassifier\n",
    "from sklearn.ensemble import GradientBoostingClassifier\n",
    "from sklearn.inspection import permutation_importance\n",
    "from sklearn.gaussian_process import GaussianProcessClassifier\n",
    "from sklearn.ensemble import RandomForestClassifier\n",
    "from sklearn.linear_model import LogisticRegression\n",
    "from sklearn.svm import SVC\n",
    "from sklearn.tree import DecisionTreeClassifier\n",
    "\n",
    "\n",
    "import matplotlib.pyplot as plt \n"
   ]
  },
  {
   "cell_type": "markdown",
   "metadata": {},
   "source": [
    "loading dataframe"
   ]
  },
  {
   "cell_type": "code",
   "execution_count": 7,
   "metadata": {},
   "outputs": [
    {
     "data": {
      "application/vnd.microsoft.datawrangler.viewer.v0+json": {
       "columns": [
        {
         "name": "Attack_Index",
         "rawType": "int64",
         "type": "integer"
        },
        {
         "name": "Packet Length",
         "rawType": "int64",
         "type": "integer"
        },
        {
         "name": "Anomaly Scores",
         "rawType": "float64",
         "type": "float"
        },
        {
         "name": "Attack Type",
         "rawType": "object",
         "type": "string"
        },
        {
         "name": "Severity Level",
         "rawType": "int64",
         "type": "integer"
        },
        {
         "name": "Protocol_ICMP",
         "rawType": "int64",
         "type": "integer"
        },
        {
         "name": "Protocol_TCP",
         "rawType": "int64",
         "type": "integer"
        },
        {
         "name": "Protocol_UDP",
         "rawType": "int64",
         "type": "integer"
        },
        {
         "name": "Packet Type_Control",
         "rawType": "int64",
         "type": "integer"
        },
        {
         "name": "Packet Type_Data",
         "rawType": "int64",
         "type": "integer"
        },
        {
         "name": "Traffic Type_DNS",
         "rawType": "int64",
         "type": "integer"
        },
        {
         "name": "Traffic Type_FTP",
         "rawType": "int64",
         "type": "integer"
        },
        {
         "name": "Traffic Type_HTTP",
         "rawType": "int64",
         "type": "integer"
        },
        {
         "name": "Malware Indicators_IoC Detected",
         "rawType": "int64",
         "type": "integer"
        },
        {
         "name": "Malware Indicators_No IoC Detected",
         "rawType": "int64",
         "type": "integer"
        },
        {
         "name": "Alerts/Warnings_Alert Triggered",
         "rawType": "int64",
         "type": "integer"
        },
        {
         "name": "Alerts/Warnings_No Alert Triggered",
         "rawType": "int64",
         "type": "integer"
        },
        {
         "name": "Attack Signature_Known Pattern A",
         "rawType": "int64",
         "type": "integer"
        },
        {
         "name": "Attack Signature_Known Pattern B",
         "rawType": "int64",
         "type": "integer"
        },
        {
         "name": "Action Taken_Blocked",
         "rawType": "int64",
         "type": "integer"
        },
        {
         "name": "Action Taken_Ignored",
         "rawType": "int64",
         "type": "integer"
        },
        {
         "name": "Action Taken_Logged",
         "rawType": "int64",
         "type": "integer"
        },
        {
         "name": "Network Segment_Segment A",
         "rawType": "int64",
         "type": "integer"
        },
        {
         "name": "Network Segment_Segment B",
         "rawType": "int64",
         "type": "integer"
        },
        {
         "name": "Network Segment_Segment C",
         "rawType": "int64",
         "type": "integer"
        },
        {
         "name": "Firewall Logs_Log Data",
         "rawType": "int64",
         "type": "integer"
        },
        {
         "name": "Firewall Logs_No Log Data",
         "rawType": "int64",
         "type": "integer"
        },
        {
         "name": "IDS/IPS Alerts_Alert Data",
         "rawType": "int64",
         "type": "integer"
        },
        {
         "name": "IDS/IPS Alerts_No Alert Data",
         "rawType": "int64",
         "type": "integer"
        },
        {
         "name": "Log Source_Firewall",
         "rawType": "int64",
         "type": "integer"
        },
        {
         "name": "Log Source_Server",
         "rawType": "int64",
         "type": "integer"
        },
        {
         "name": "Protocol_ICMP.1",
         "rawType": "int64",
         "type": "integer"
        },
        {
         "name": "Protocol_TCP.1",
         "rawType": "int64",
         "type": "integer"
        },
        {
         "name": "Protocol_UDP.1",
         "rawType": "int64",
         "type": "integer"
        },
        {
         "name": "Packet Type_Control.1",
         "rawType": "int64",
         "type": "integer"
        },
        {
         "name": "Packet Type_Data.1",
         "rawType": "int64",
         "type": "integer"
        },
        {
         "name": "Traffic Type_DNS.1",
         "rawType": "int64",
         "type": "integer"
        },
        {
         "name": "Traffic Type_FTP.1",
         "rawType": "int64",
         "type": "integer"
        },
        {
         "name": "Traffic Type_HTTP.1",
         "rawType": "int64",
         "type": "integer"
        },
        {
         "name": "Malware Indicators_IoC Detected.1",
         "rawType": "int64",
         "type": "integer"
        },
        {
         "name": "Malware Indicators_No IoC Detected.1",
         "rawType": "int64",
         "type": "integer"
        },
        {
         "name": "Alerts/Warnings_Alert Triggered.1",
         "rawType": "int64",
         "type": "integer"
        },
        {
         "name": "Alerts/Warnings_No Alert Triggered.1",
         "rawType": "int64",
         "type": "integer"
        },
        {
         "name": "Attack Signature_Known Pattern A.1",
         "rawType": "int64",
         "type": "integer"
        },
        {
         "name": "Attack Signature_Known Pattern B.1",
         "rawType": "int64",
         "type": "integer"
        },
        {
         "name": "Action Taken_Blocked.1",
         "rawType": "int64",
         "type": "integer"
        },
        {
         "name": "Action Taken_Ignored.1",
         "rawType": "int64",
         "type": "integer"
        },
        {
         "name": "Action Taken_Logged.1",
         "rawType": "int64",
         "type": "integer"
        },
        {
         "name": "Network Segment_Segment A.1",
         "rawType": "int64",
         "type": "integer"
        },
        {
         "name": "Network Segment_Segment B.1",
         "rawType": "int64",
         "type": "integer"
        },
        {
         "name": "Network Segment_Segment C.1",
         "rawType": "int64",
         "type": "integer"
        },
        {
         "name": "Firewall Logs_Log Data.1",
         "rawType": "int64",
         "type": "integer"
        },
        {
         "name": "Firewall Logs_No Log Data.1",
         "rawType": "int64",
         "type": "integer"
        },
        {
         "name": "IDS/IPS Alerts_Alert Data.1",
         "rawType": "int64",
         "type": "integer"
        },
        {
         "name": "IDS/IPS Alerts_No Alert Data.1",
         "rawType": "int64",
         "type": "integer"
        },
        {
         "name": "Log Source_Firewall.1",
         "rawType": "int64",
         "type": "integer"
        },
        {
         "name": "Log Source_Server.1",
         "rawType": "int64",
         "type": "integer"
        }
       ],
       "conversionMethod": "pd.DataFrame",
       "ref": "93889c8d-0bd7-4c7f-9476-4556b0b08509",
       "rows": [
        [
         "0",
         "503",
         "28.67",
         "Malware",
         "1",
         "1",
         "0",
         "0",
         "0",
         "1",
         "0",
         "0",
         "1",
         "1",
         "0",
         "0",
         "1",
         "0",
         "1",
         "0",
         "0",
         "1",
         "1",
         "0",
         "0",
         "1",
         "0",
         "0",
         "1",
         "0",
         "1",
         "1",
         "0",
         "0",
         "0",
         "1",
         "0",
         "0",
         "1",
         "1",
         "0",
         "0",
         "1",
         "0",
         "1",
         "0",
         "0",
         "1",
         "1",
         "0",
         "0",
         "1",
         "0",
         "0",
         "1",
         "0",
         "1"
        ],
        [
         "1",
         "1174",
         "51.5",
         "Malware",
         "1",
         "1",
         "0",
         "0",
         "0",
         "1",
         "0",
         "0",
         "1",
         "1",
         "0",
         "0",
         "1",
         "1",
         "0",
         "1",
         "0",
         "0",
         "0",
         "1",
         "0",
         "1",
         "0",
         "0",
         "1",
         "1",
         "0",
         "1",
         "0",
         "0",
         "0",
         "1",
         "0",
         "0",
         "1",
         "1",
         "0",
         "0",
         "1",
         "1",
         "0",
         "1",
         "0",
         "0",
         "0",
         "1",
         "0",
         "1",
         "0",
         "0",
         "1",
         "1",
         "0"
        ],
        [
         "2",
         "306",
         "87.42",
         "DDoS",
         "1",
         "0",
         "0",
         "1",
         "1",
         "0",
         "0",
         "0",
         "1",
         "1",
         "0",
         "1",
         "0",
         "0",
         "1",
         "0",
         "1",
         "0",
         "0",
         "0",
         "1",
         "1",
         "0",
         "1",
         "0",
         "1",
         "0",
         "0",
         "0",
         "1",
         "1",
         "0",
         "0",
         "0",
         "1",
         "1",
         "0",
         "1",
         "0",
         "0",
         "1",
         "0",
         "1",
         "0",
         "0",
         "0",
         "1",
         "1",
         "0",
         "1",
         "0",
         "1",
         "0"
        ],
        [
         "3",
         "385",
         "15.79",
         "Malware",
         "2",
         "0",
         "0",
         "1",
         "0",
         "1",
         "0",
         "0",
         "1",
         "0",
         "1",
         "1",
         "0",
         "0",
         "1",
         "1",
         "0",
         "0",
         "0",
         "1",
         "0",
         "0",
         "1",
         "1",
         "0",
         "1",
         "0",
         "0",
         "0",
         "1",
         "0",
         "1",
         "0",
         "0",
         "1",
         "0",
         "1",
         "1",
         "0",
         "0",
         "1",
         "1",
         "0",
         "0",
         "0",
         "1",
         "0",
         "0",
         "1",
         "1",
         "0",
         "1",
         "0"
        ],
        [
         "4",
         "1462",
         "0.52",
         "DDoS",
         "1",
         "0",
         "1",
         "0",
         "0",
         "1",
         "1",
         "0",
         "0",
         "0",
         "1",
         "1",
         "0",
         "0",
         "1",
         "1",
         "0",
         "0",
         "0",
         "0",
         "1",
         "0",
         "1",
         "1",
         "0",
         "1",
         "0",
         "0",
         "1",
         "0",
         "0",
         "1",
         "1",
         "0",
         "0",
         "0",
         "1",
         "1",
         "0",
         "0",
         "1",
         "1",
         "0",
         "0",
         "0",
         "0",
         "1",
         "0",
         "1",
         "1",
         "0",
         "1",
         "0"
        ]
       ],
       "shape": {
        "columns": 56,
        "rows": 5
       }
      },
      "text/html": [
       "<div>\n",
       "<style scoped>\n",
       "    .dataframe tbody tr th:only-of-type {\n",
       "        vertical-align: middle;\n",
       "    }\n",
       "\n",
       "    .dataframe tbody tr th {\n",
       "        vertical-align: top;\n",
       "    }\n",
       "\n",
       "    .dataframe thead th {\n",
       "        text-align: right;\n",
       "    }\n",
       "</style>\n",
       "<table border=\"1\" class=\"dataframe\">\n",
       "  <thead>\n",
       "    <tr style=\"text-align: right;\">\n",
       "      <th></th>\n",
       "      <th>Packet Length</th>\n",
       "      <th>Anomaly Scores</th>\n",
       "      <th>Attack Type</th>\n",
       "      <th>Severity Level</th>\n",
       "      <th>Protocol_ICMP</th>\n",
       "      <th>Protocol_TCP</th>\n",
       "      <th>Protocol_UDP</th>\n",
       "      <th>Packet Type_Control</th>\n",
       "      <th>Packet Type_Data</th>\n",
       "      <th>Traffic Type_DNS</th>\n",
       "      <th>...</th>\n",
       "      <th>Action Taken_Logged.1</th>\n",
       "      <th>Network Segment_Segment A.1</th>\n",
       "      <th>Network Segment_Segment B.1</th>\n",
       "      <th>Network Segment_Segment C.1</th>\n",
       "      <th>Firewall Logs_Log Data.1</th>\n",
       "      <th>Firewall Logs_No Log Data.1</th>\n",
       "      <th>IDS/IPS Alerts_Alert Data.1</th>\n",
       "      <th>IDS/IPS Alerts_No Alert Data.1</th>\n",
       "      <th>Log Source_Firewall.1</th>\n",
       "      <th>Log Source_Server.1</th>\n",
       "    </tr>\n",
       "    <tr>\n",
       "      <th>Attack_Index</th>\n",
       "      <th></th>\n",
       "      <th></th>\n",
       "      <th></th>\n",
       "      <th></th>\n",
       "      <th></th>\n",
       "      <th></th>\n",
       "      <th></th>\n",
       "      <th></th>\n",
       "      <th></th>\n",
       "      <th></th>\n",
       "      <th></th>\n",
       "      <th></th>\n",
       "      <th></th>\n",
       "      <th></th>\n",
       "      <th></th>\n",
       "      <th></th>\n",
       "      <th></th>\n",
       "      <th></th>\n",
       "      <th></th>\n",
       "      <th></th>\n",
       "      <th></th>\n",
       "    </tr>\n",
       "  </thead>\n",
       "  <tbody>\n",
       "    <tr>\n",
       "      <th>0</th>\n",
       "      <td>503</td>\n",
       "      <td>28.67</td>\n",
       "      <td>Malware</td>\n",
       "      <td>1</td>\n",
       "      <td>1</td>\n",
       "      <td>0</td>\n",
       "      <td>0</td>\n",
       "      <td>0</td>\n",
       "      <td>1</td>\n",
       "      <td>0</td>\n",
       "      <td>...</td>\n",
       "      <td>1</td>\n",
       "      <td>1</td>\n",
       "      <td>0</td>\n",
       "      <td>0</td>\n",
       "      <td>1</td>\n",
       "      <td>0</td>\n",
       "      <td>0</td>\n",
       "      <td>1</td>\n",
       "      <td>0</td>\n",
       "      <td>1</td>\n",
       "    </tr>\n",
       "    <tr>\n",
       "      <th>1</th>\n",
       "      <td>1174</td>\n",
       "      <td>51.50</td>\n",
       "      <td>Malware</td>\n",
       "      <td>1</td>\n",
       "      <td>1</td>\n",
       "      <td>0</td>\n",
       "      <td>0</td>\n",
       "      <td>0</td>\n",
       "      <td>1</td>\n",
       "      <td>0</td>\n",
       "      <td>...</td>\n",
       "      <td>0</td>\n",
       "      <td>0</td>\n",
       "      <td>1</td>\n",
       "      <td>0</td>\n",
       "      <td>1</td>\n",
       "      <td>0</td>\n",
       "      <td>0</td>\n",
       "      <td>1</td>\n",
       "      <td>1</td>\n",
       "      <td>0</td>\n",
       "    </tr>\n",
       "    <tr>\n",
       "      <th>2</th>\n",
       "      <td>306</td>\n",
       "      <td>87.42</td>\n",
       "      <td>DDoS</td>\n",
       "      <td>1</td>\n",
       "      <td>0</td>\n",
       "      <td>0</td>\n",
       "      <td>1</td>\n",
       "      <td>1</td>\n",
       "      <td>0</td>\n",
       "      <td>0</td>\n",
       "      <td>...</td>\n",
       "      <td>0</td>\n",
       "      <td>0</td>\n",
       "      <td>0</td>\n",
       "      <td>1</td>\n",
       "      <td>1</td>\n",
       "      <td>0</td>\n",
       "      <td>1</td>\n",
       "      <td>0</td>\n",
       "      <td>1</td>\n",
       "      <td>0</td>\n",
       "    </tr>\n",
       "    <tr>\n",
       "      <th>3</th>\n",
       "      <td>385</td>\n",
       "      <td>15.79</td>\n",
       "      <td>Malware</td>\n",
       "      <td>2</td>\n",
       "      <td>0</td>\n",
       "      <td>0</td>\n",
       "      <td>1</td>\n",
       "      <td>0</td>\n",
       "      <td>1</td>\n",
       "      <td>0</td>\n",
       "      <td>...</td>\n",
       "      <td>0</td>\n",
       "      <td>0</td>\n",
       "      <td>1</td>\n",
       "      <td>0</td>\n",
       "      <td>0</td>\n",
       "      <td>1</td>\n",
       "      <td>1</td>\n",
       "      <td>0</td>\n",
       "      <td>1</td>\n",
       "      <td>0</td>\n",
       "    </tr>\n",
       "    <tr>\n",
       "      <th>4</th>\n",
       "      <td>1462</td>\n",
       "      <td>0.52</td>\n",
       "      <td>DDoS</td>\n",
       "      <td>1</td>\n",
       "      <td>0</td>\n",
       "      <td>1</td>\n",
       "      <td>0</td>\n",
       "      <td>0</td>\n",
       "      <td>1</td>\n",
       "      <td>1</td>\n",
       "      <td>...</td>\n",
       "      <td>0</td>\n",
       "      <td>0</td>\n",
       "      <td>0</td>\n",
       "      <td>1</td>\n",
       "      <td>0</td>\n",
       "      <td>1</td>\n",
       "      <td>1</td>\n",
       "      <td>0</td>\n",
       "      <td>1</td>\n",
       "      <td>0</td>\n",
       "    </tr>\n",
       "  </tbody>\n",
       "</table>\n",
       "<p>5 rows × 56 columns</p>\n",
       "</div>"
      ],
      "text/plain": [
       "              Packet Length  Anomaly Scores Attack Type  Severity Level  \\\n",
       "Attack_Index                                                              \n",
       "0                       503           28.67     Malware               1   \n",
       "1                      1174           51.50     Malware               1   \n",
       "2                       306           87.42        DDoS               1   \n",
       "3                       385           15.79     Malware               2   \n",
       "4                      1462            0.52        DDoS               1   \n",
       "\n",
       "              Protocol_ICMP  Protocol_TCP  Protocol_UDP  Packet Type_Control  \\\n",
       "Attack_Index                                                                   \n",
       "0                         1             0             0                    0   \n",
       "1                         1             0             0                    0   \n",
       "2                         0             0             1                    1   \n",
       "3                         0             0             1                    0   \n",
       "4                         0             1             0                    0   \n",
       "\n",
       "              Packet Type_Data  Traffic Type_DNS  ...  Action Taken_Logged.1  \\\n",
       "Attack_Index                                      ...                          \n",
       "0                            1                 0  ...                      1   \n",
       "1                            1                 0  ...                      0   \n",
       "2                            0                 0  ...                      0   \n",
       "3                            1                 0  ...                      0   \n",
       "4                            1                 1  ...                      0   \n",
       "\n",
       "              Network Segment_Segment A.1  Network Segment_Segment B.1  \\\n",
       "Attack_Index                                                             \n",
       "0                                       1                            0   \n",
       "1                                       0                            1   \n",
       "2                                       0                            0   \n",
       "3                                       0                            1   \n",
       "4                                       0                            0   \n",
       "\n",
       "              Network Segment_Segment C.1  Firewall Logs_Log Data.1  \\\n",
       "Attack_Index                                                          \n",
       "0                                       0                         1   \n",
       "1                                       0                         1   \n",
       "2                                       1                         1   \n",
       "3                                       0                         0   \n",
       "4                                       1                         0   \n",
       "\n",
       "              Firewall Logs_No Log Data.1  IDS/IPS Alerts_Alert Data.1  \\\n",
       "Attack_Index                                                             \n",
       "0                                       0                            0   \n",
       "1                                       0                            0   \n",
       "2                                       0                            1   \n",
       "3                                       1                            1   \n",
       "4                                       1                            1   \n",
       "\n",
       "              IDS/IPS Alerts_No Alert Data.1  Log Source_Firewall.1  \\\n",
       "Attack_Index                                                          \n",
       "0                                          1                      0   \n",
       "1                                          1                      1   \n",
       "2                                          0                      1   \n",
       "3                                          0                      1   \n",
       "4                                          0                      1   \n",
       "\n",
       "              Log Source_Server.1  \n",
       "Attack_Index                       \n",
       "0                               1  \n",
       "1                               0  \n",
       "2                               0  \n",
       "3                               0  \n",
       "4                               0  \n",
       "\n",
       "[5 rows x 56 columns]"
      ]
     },
     "execution_count": 7,
     "metadata": {},
     "output_type": "execute_result"
    }
   ],
   "source": [
    "df = pd.read_csv('../data/processed/cleaned_cybersecurity_attacks_encoded.csv', index_col= 'Attack_Index')\n",
    "df.head()\n"
   ]
  },
  {
   "cell_type": "markdown",
   "metadata": {},
   "source": [
    "## Dataset Splitting"
   ]
  },
  {
   "cell_type": "code",
   "execution_count": 12,
   "metadata": {},
   "outputs": [
    {
     "data": {
      "text/plain": [
       "((32000, 56), (8000, 56))"
      ]
     },
     "execution_count": 12,
     "metadata": {},
     "output_type": "execute_result"
    }
   ],
   "source": [
    "df_train, df_test = train_test_split(df,test_size = 0.2, random_state=42)\n",
    "df_train.shape, df_test.shape"
   ]
  },
  {
   "cell_type": "markdown",
   "metadata": {},
   "source": [
    "let see the distribution "
   ]
  },
  {
   "cell_type": "code",
   "execution_count": 13,
   "metadata": {},
   "outputs": [
    {
     "name": "stdout",
     "output_type": "stream",
     "text": [
      "1.001325\n",
      "0.9975625\n",
      "1.016375\n"
     ]
    }
   ],
   "source": [
    "print(df['Severity Level'].mean())\n",
    "print(df_train['Severity Level'].mean())\n",
    "print(df_test['Severity Level'].mean())"
   ]
  },
  {
   "cell_type": "markdown",
   "metadata": {},
   "source": [
    "### Dividing the target column and feature columns"
   ]
  },
  {
   "cell_type": "code",
   "execution_count": 14,
   "metadata": {},
   "outputs": [],
   "source": [
    "# list of columns features to be used for training\n",
    "features = [\n",
    "    'Packet Length', \n",
    "    'Anomaly Scores', \n",
    "    'Severity Level', \n",
    "    'Protocol_ICMP',\n",
    "    'Protocol_TCP', \n",
    "    'Protocol_UDP', \n",
    "    'Packet Type_Control',\n",
    "    'Packet Type_Data', \n",
    "    'Traffic Type_DNS', \n",
    "    'Traffic Type_FTP',\n",
    "    'Traffic Type_HTTP', \n",
    "    'Malware Indicators_IoC Detected',\n",
    "    'Malware Indicators_No IoC Detected', \n",
    "    'Alerts/Warnings_Alert Triggered',\n",
    "    'Alerts/Warnings_No Alert Triggered', \n",
    "    'Attack Signature_Known Pattern A', \n",
    "    'Attack Signature_Known Pattern B',\n",
    "    'Action Taken_Blocked', \n",
    "    'Action Taken_Ignored',\n",
    "    'Action Taken_Logged',\n",
    "    'Network Segment_Segment A', \n",
    "    'Network Segment_Segment B',\n",
    "    'Network Segment_Segment C',\n",
    "    'Firewall Logs_Log Data',\n",
    "    'Firewall Logs_No Log Data',\n",
    "    'IDS/IPS Alerts_Alert Data',\n",
    "    'IDS/IPS Alerts_No Alert Data',\n",
    "    'Log Source_Firewall',\n",
    "    'Log Source_Server',\n",
    "    'Protocol_ICMP',\n",
    "    'Protocol_TCP',\n",
    "    'Protocol_UDP',\n",
    "    'Packet Type_Control',\n",
    "    'Packet Type_Data',\n",
    "    'Traffic Type_DNS',\n",
    "    'Traffic Type_FTP',\n",
    "    'Traffic Type_HTTP',\n",
    "    'Malware Indicators_IoC Detected',\n",
    "    'Malware Indicators_No IoC Detected',\n",
    "    'Alerts/Warnings_Alert Triggered',\n",
    "    'Alerts/Warnings_No Alert Triggered',\n",
    "    'Attack Signature_Known Pattern A', \n",
    "    'Attack Signature_Known Pattern B',\n",
    "    'Action Taken_Blocked', \n",
    "    'Action Taken_Ignored', 'Action Taken_Logged',\n",
    "    'Network Segment_Segment A', \n",
    "    'Network Segment_Segment B',\n",
    "    'Network Segment_Segment C', \n",
    "    'Firewall Logs_Log Data',\n",
    "    'Firewall Logs_No Log Data', \n",
    "    'IDS/IPS Alerts_Alert Data',\n",
    "    'IDS/IPS Alerts_No Alert Data',\n",
    "    'Log Source_Firewall',\n",
    "    'Log Source_Server'\n",
    "]\n",
    "\n",
    "target_column = 'attack type'"
   ]
  },
  {
   "cell_type": "markdown",
   "metadata": {},
   "source": [
    "### get the values of the features columns for the training data\n"
   ]
  },
  {
   "cell_type": "code",
   "execution_count": 15,
   "metadata": {},
   "outputs": [],
   "source": [
    "X_train = df_train.loc[:,features].values\n",
    "y_train = df_train['Attack Type'].values"
   ]
  },
  {
   "cell_type": "markdown",
   "metadata": {},
   "source": [
    "### get the values of the columns for the test data"
   ]
  },
  {
   "cell_type": "code",
   "execution_count": 16,
   "metadata": {},
   "outputs": [],
   "source": [
    "x_test = df_test.loc[:,features].values\n",
    "y_test = df_test['Attack Type'].values"
   ]
  },
  {
   "cell_type": "markdown",
   "metadata": {},
   "source": [
    "# Testing models "
   ]
  },
  {
   "cell_type": "markdown",
   "metadata": {},
   "source": [
    "our problem is a classification problem , we then tried the following classification algorithms :\n",
    "\n",
    "1) Logistic Regression\n",
    "2) Decision tree classifier\n",
    "3) Random Forest Classifier\n",
    "4) XGboost\n",
    "5) Naive Bayes\n",
    "6) SGD classifier "
   ]
  },
  {
   "cell_type": "markdown",
   "metadata": {},
   "source": [
    "## Logistic regression "
   ]
  },
  {
   "cell_type": "code",
   "execution_count": 17,
   "metadata": {},
   "outputs": [],
   "source": [
    "lr_model = LogisticRegression(random_state=42,max_iter=1500)"
   ]
  },
  {
   "cell_type": "code",
   "execution_count": 18,
   "metadata": {},
   "outputs": [
    {
     "data": {
      "text/html": [
       "<style>#sk-container-id-1 {\n",
       "  /* Definition of color scheme common for light and dark mode */\n",
       "  --sklearn-color-text: #000;\n",
       "  --sklearn-color-text-muted: #666;\n",
       "  --sklearn-color-line: gray;\n",
       "  /* Definition of color scheme for unfitted estimators */\n",
       "  --sklearn-color-unfitted-level-0: #fff5e6;\n",
       "  --sklearn-color-unfitted-level-1: #f6e4d2;\n",
       "  --sklearn-color-unfitted-level-2: #ffe0b3;\n",
       "  --sklearn-color-unfitted-level-3: chocolate;\n",
       "  /* Definition of color scheme for fitted estimators */\n",
       "  --sklearn-color-fitted-level-0: #f0f8ff;\n",
       "  --sklearn-color-fitted-level-1: #d4ebff;\n",
       "  --sklearn-color-fitted-level-2: #b3dbfd;\n",
       "  --sklearn-color-fitted-level-3: cornflowerblue;\n",
       "\n",
       "  /* Specific color for light theme */\n",
       "  --sklearn-color-text-on-default-background: var(--sg-text-color, var(--theme-code-foreground, var(--jp-content-font-color1, black)));\n",
       "  --sklearn-color-background: var(--sg-background-color, var(--theme-background, var(--jp-layout-color0, white)));\n",
       "  --sklearn-color-border-box: var(--sg-text-color, var(--theme-code-foreground, var(--jp-content-font-color1, black)));\n",
       "  --sklearn-color-icon: #696969;\n",
       "\n",
       "  @media (prefers-color-scheme: dark) {\n",
       "    /* Redefinition of color scheme for dark theme */\n",
       "    --sklearn-color-text-on-default-background: var(--sg-text-color, var(--theme-code-foreground, var(--jp-content-font-color1, white)));\n",
       "    --sklearn-color-background: var(--sg-background-color, var(--theme-background, var(--jp-layout-color0, #111)));\n",
       "    --sklearn-color-border-box: var(--sg-text-color, var(--theme-code-foreground, var(--jp-content-font-color1, white)));\n",
       "    --sklearn-color-icon: #878787;\n",
       "  }\n",
       "}\n",
       "\n",
       "#sk-container-id-1 {\n",
       "  color: var(--sklearn-color-text);\n",
       "}\n",
       "\n",
       "#sk-container-id-1 pre {\n",
       "  padding: 0;\n",
       "}\n",
       "\n",
       "#sk-container-id-1 input.sk-hidden--visually {\n",
       "  border: 0;\n",
       "  clip: rect(1px 1px 1px 1px);\n",
       "  clip: rect(1px, 1px, 1px, 1px);\n",
       "  height: 1px;\n",
       "  margin: -1px;\n",
       "  overflow: hidden;\n",
       "  padding: 0;\n",
       "  position: absolute;\n",
       "  width: 1px;\n",
       "}\n",
       "\n",
       "#sk-container-id-1 div.sk-dashed-wrapped {\n",
       "  border: 1px dashed var(--sklearn-color-line);\n",
       "  margin: 0 0.4em 0.5em 0.4em;\n",
       "  box-sizing: border-box;\n",
       "  padding-bottom: 0.4em;\n",
       "  background-color: var(--sklearn-color-background);\n",
       "}\n",
       "\n",
       "#sk-container-id-1 div.sk-container {\n",
       "  /* jupyter's `normalize.less` sets `[hidden] { display: none; }`\n",
       "     but bootstrap.min.css set `[hidden] { display: none !important; }`\n",
       "     so we also need the `!important` here to be able to override the\n",
       "     default hidden behavior on the sphinx rendered scikit-learn.org.\n",
       "     See: https://github.com/scikit-learn/scikit-learn/issues/21755 */\n",
       "  display: inline-block !important;\n",
       "  position: relative;\n",
       "}\n",
       "\n",
       "#sk-container-id-1 div.sk-text-repr-fallback {\n",
       "  display: none;\n",
       "}\n",
       "\n",
       "div.sk-parallel-item,\n",
       "div.sk-serial,\n",
       "div.sk-item {\n",
       "  /* draw centered vertical line to link estimators */\n",
       "  background-image: linear-gradient(var(--sklearn-color-text-on-default-background), var(--sklearn-color-text-on-default-background));\n",
       "  background-size: 2px 100%;\n",
       "  background-repeat: no-repeat;\n",
       "  background-position: center center;\n",
       "}\n",
       "\n",
       "/* Parallel-specific style estimator block */\n",
       "\n",
       "#sk-container-id-1 div.sk-parallel-item::after {\n",
       "  content: \"\";\n",
       "  width: 100%;\n",
       "  border-bottom: 2px solid var(--sklearn-color-text-on-default-background);\n",
       "  flex-grow: 1;\n",
       "}\n",
       "\n",
       "#sk-container-id-1 div.sk-parallel {\n",
       "  display: flex;\n",
       "  align-items: stretch;\n",
       "  justify-content: center;\n",
       "  background-color: var(--sklearn-color-background);\n",
       "  position: relative;\n",
       "}\n",
       "\n",
       "#sk-container-id-1 div.sk-parallel-item {\n",
       "  display: flex;\n",
       "  flex-direction: column;\n",
       "}\n",
       "\n",
       "#sk-container-id-1 div.sk-parallel-item:first-child::after {\n",
       "  align-self: flex-end;\n",
       "  width: 50%;\n",
       "}\n",
       "\n",
       "#sk-container-id-1 div.sk-parallel-item:last-child::after {\n",
       "  align-self: flex-start;\n",
       "  width: 50%;\n",
       "}\n",
       "\n",
       "#sk-container-id-1 div.sk-parallel-item:only-child::after {\n",
       "  width: 0;\n",
       "}\n",
       "\n",
       "/* Serial-specific style estimator block */\n",
       "\n",
       "#sk-container-id-1 div.sk-serial {\n",
       "  display: flex;\n",
       "  flex-direction: column;\n",
       "  align-items: center;\n",
       "  background-color: var(--sklearn-color-background);\n",
       "  padding-right: 1em;\n",
       "  padding-left: 1em;\n",
       "}\n",
       "\n",
       "\n",
       "/* Toggleable style: style used for estimator/Pipeline/ColumnTransformer box that is\n",
       "clickable and can be expanded/collapsed.\n",
       "- Pipeline and ColumnTransformer use this feature and define the default style\n",
       "- Estimators will overwrite some part of the style using the `sk-estimator` class\n",
       "*/\n",
       "\n",
       "/* Pipeline and ColumnTransformer style (default) */\n",
       "\n",
       "#sk-container-id-1 div.sk-toggleable {\n",
       "  /* Default theme specific background. It is overwritten whether we have a\n",
       "  specific estimator or a Pipeline/ColumnTransformer */\n",
       "  background-color: var(--sklearn-color-background);\n",
       "}\n",
       "\n",
       "/* Toggleable label */\n",
       "#sk-container-id-1 label.sk-toggleable__label {\n",
       "  cursor: pointer;\n",
       "  display: flex;\n",
       "  width: 100%;\n",
       "  margin-bottom: 0;\n",
       "  padding: 0.5em;\n",
       "  box-sizing: border-box;\n",
       "  text-align: center;\n",
       "  align-items: start;\n",
       "  justify-content: space-between;\n",
       "  gap: 0.5em;\n",
       "}\n",
       "\n",
       "#sk-container-id-1 label.sk-toggleable__label .caption {\n",
       "  font-size: 0.6rem;\n",
       "  font-weight: lighter;\n",
       "  color: var(--sklearn-color-text-muted);\n",
       "}\n",
       "\n",
       "#sk-container-id-1 label.sk-toggleable__label-arrow:before {\n",
       "  /* Arrow on the left of the label */\n",
       "  content: \"▸\";\n",
       "  float: left;\n",
       "  margin-right: 0.25em;\n",
       "  color: var(--sklearn-color-icon);\n",
       "}\n",
       "\n",
       "#sk-container-id-1 label.sk-toggleable__label-arrow:hover:before {\n",
       "  color: var(--sklearn-color-text);\n",
       "}\n",
       "\n",
       "/* Toggleable content - dropdown */\n",
       "\n",
       "#sk-container-id-1 div.sk-toggleable__content {\n",
       "  max-height: 0;\n",
       "  max-width: 0;\n",
       "  overflow: hidden;\n",
       "  text-align: left;\n",
       "  /* unfitted */\n",
       "  background-color: var(--sklearn-color-unfitted-level-0);\n",
       "}\n",
       "\n",
       "#sk-container-id-1 div.sk-toggleable__content.fitted {\n",
       "  /* fitted */\n",
       "  background-color: var(--sklearn-color-fitted-level-0);\n",
       "}\n",
       "\n",
       "#sk-container-id-1 div.sk-toggleable__content pre {\n",
       "  margin: 0.2em;\n",
       "  border-radius: 0.25em;\n",
       "  color: var(--sklearn-color-text);\n",
       "  /* unfitted */\n",
       "  background-color: var(--sklearn-color-unfitted-level-0);\n",
       "}\n",
       "\n",
       "#sk-container-id-1 div.sk-toggleable__content.fitted pre {\n",
       "  /* unfitted */\n",
       "  background-color: var(--sklearn-color-fitted-level-0);\n",
       "}\n",
       "\n",
       "#sk-container-id-1 input.sk-toggleable__control:checked~div.sk-toggleable__content {\n",
       "  /* Expand drop-down */\n",
       "  max-height: 200px;\n",
       "  max-width: 100%;\n",
       "  overflow: auto;\n",
       "}\n",
       "\n",
       "#sk-container-id-1 input.sk-toggleable__control:checked~label.sk-toggleable__label-arrow:before {\n",
       "  content: \"▾\";\n",
       "}\n",
       "\n",
       "/* Pipeline/ColumnTransformer-specific style */\n",
       "\n",
       "#sk-container-id-1 div.sk-label input.sk-toggleable__control:checked~label.sk-toggleable__label {\n",
       "  color: var(--sklearn-color-text);\n",
       "  background-color: var(--sklearn-color-unfitted-level-2);\n",
       "}\n",
       "\n",
       "#sk-container-id-1 div.sk-label.fitted input.sk-toggleable__control:checked~label.sk-toggleable__label {\n",
       "  background-color: var(--sklearn-color-fitted-level-2);\n",
       "}\n",
       "\n",
       "/* Estimator-specific style */\n",
       "\n",
       "/* Colorize estimator box */\n",
       "#sk-container-id-1 div.sk-estimator input.sk-toggleable__control:checked~label.sk-toggleable__label {\n",
       "  /* unfitted */\n",
       "  background-color: var(--sklearn-color-unfitted-level-2);\n",
       "}\n",
       "\n",
       "#sk-container-id-1 div.sk-estimator.fitted input.sk-toggleable__control:checked~label.sk-toggleable__label {\n",
       "  /* fitted */\n",
       "  background-color: var(--sklearn-color-fitted-level-2);\n",
       "}\n",
       "\n",
       "#sk-container-id-1 div.sk-label label.sk-toggleable__label,\n",
       "#sk-container-id-1 div.sk-label label {\n",
       "  /* The background is the default theme color */\n",
       "  color: var(--sklearn-color-text-on-default-background);\n",
       "}\n",
       "\n",
       "/* On hover, darken the color of the background */\n",
       "#sk-container-id-1 div.sk-label:hover label.sk-toggleable__label {\n",
       "  color: var(--sklearn-color-text);\n",
       "  background-color: var(--sklearn-color-unfitted-level-2);\n",
       "}\n",
       "\n",
       "/* Label box, darken color on hover, fitted */\n",
       "#sk-container-id-1 div.sk-label.fitted:hover label.sk-toggleable__label.fitted {\n",
       "  color: var(--sklearn-color-text);\n",
       "  background-color: var(--sklearn-color-fitted-level-2);\n",
       "}\n",
       "\n",
       "/* Estimator label */\n",
       "\n",
       "#sk-container-id-1 div.sk-label label {\n",
       "  font-family: monospace;\n",
       "  font-weight: bold;\n",
       "  display: inline-block;\n",
       "  line-height: 1.2em;\n",
       "}\n",
       "\n",
       "#sk-container-id-1 div.sk-label-container {\n",
       "  text-align: center;\n",
       "}\n",
       "\n",
       "/* Estimator-specific */\n",
       "#sk-container-id-1 div.sk-estimator {\n",
       "  font-family: monospace;\n",
       "  border: 1px dotted var(--sklearn-color-border-box);\n",
       "  border-radius: 0.25em;\n",
       "  box-sizing: border-box;\n",
       "  margin-bottom: 0.5em;\n",
       "  /* unfitted */\n",
       "  background-color: var(--sklearn-color-unfitted-level-0);\n",
       "}\n",
       "\n",
       "#sk-container-id-1 div.sk-estimator.fitted {\n",
       "  /* fitted */\n",
       "  background-color: var(--sklearn-color-fitted-level-0);\n",
       "}\n",
       "\n",
       "/* on hover */\n",
       "#sk-container-id-1 div.sk-estimator:hover {\n",
       "  /* unfitted */\n",
       "  background-color: var(--sklearn-color-unfitted-level-2);\n",
       "}\n",
       "\n",
       "#sk-container-id-1 div.sk-estimator.fitted:hover {\n",
       "  /* fitted */\n",
       "  background-color: var(--sklearn-color-fitted-level-2);\n",
       "}\n",
       "\n",
       "/* Specification for estimator info (e.g. \"i\" and \"?\") */\n",
       "\n",
       "/* Common style for \"i\" and \"?\" */\n",
       "\n",
       ".sk-estimator-doc-link,\n",
       "a:link.sk-estimator-doc-link,\n",
       "a:visited.sk-estimator-doc-link {\n",
       "  float: right;\n",
       "  font-size: smaller;\n",
       "  line-height: 1em;\n",
       "  font-family: monospace;\n",
       "  background-color: var(--sklearn-color-background);\n",
       "  border-radius: 1em;\n",
       "  height: 1em;\n",
       "  width: 1em;\n",
       "  text-decoration: none !important;\n",
       "  margin-left: 0.5em;\n",
       "  text-align: center;\n",
       "  /* unfitted */\n",
       "  border: var(--sklearn-color-unfitted-level-1) 1pt solid;\n",
       "  color: var(--sklearn-color-unfitted-level-1);\n",
       "}\n",
       "\n",
       ".sk-estimator-doc-link.fitted,\n",
       "a:link.sk-estimator-doc-link.fitted,\n",
       "a:visited.sk-estimator-doc-link.fitted {\n",
       "  /* fitted */\n",
       "  border: var(--sklearn-color-fitted-level-1) 1pt solid;\n",
       "  color: var(--sklearn-color-fitted-level-1);\n",
       "}\n",
       "\n",
       "/* On hover */\n",
       "div.sk-estimator:hover .sk-estimator-doc-link:hover,\n",
       ".sk-estimator-doc-link:hover,\n",
       "div.sk-label-container:hover .sk-estimator-doc-link:hover,\n",
       ".sk-estimator-doc-link:hover {\n",
       "  /* unfitted */\n",
       "  background-color: var(--sklearn-color-unfitted-level-3);\n",
       "  color: var(--sklearn-color-background);\n",
       "  text-decoration: none;\n",
       "}\n",
       "\n",
       "div.sk-estimator.fitted:hover .sk-estimator-doc-link.fitted:hover,\n",
       ".sk-estimator-doc-link.fitted:hover,\n",
       "div.sk-label-container:hover .sk-estimator-doc-link.fitted:hover,\n",
       ".sk-estimator-doc-link.fitted:hover {\n",
       "  /* fitted */\n",
       "  background-color: var(--sklearn-color-fitted-level-3);\n",
       "  color: var(--sklearn-color-background);\n",
       "  text-decoration: none;\n",
       "}\n",
       "\n",
       "/* Span, style for the box shown on hovering the info icon */\n",
       ".sk-estimator-doc-link span {\n",
       "  display: none;\n",
       "  z-index: 9999;\n",
       "  position: relative;\n",
       "  font-weight: normal;\n",
       "  right: .2ex;\n",
       "  padding: .5ex;\n",
       "  margin: .5ex;\n",
       "  width: min-content;\n",
       "  min-width: 20ex;\n",
       "  max-width: 50ex;\n",
       "  color: var(--sklearn-color-text);\n",
       "  box-shadow: 2pt 2pt 4pt #999;\n",
       "  /* unfitted */\n",
       "  background: var(--sklearn-color-unfitted-level-0);\n",
       "  border: .5pt solid var(--sklearn-color-unfitted-level-3);\n",
       "}\n",
       "\n",
       ".sk-estimator-doc-link.fitted span {\n",
       "  /* fitted */\n",
       "  background: var(--sklearn-color-fitted-level-0);\n",
       "  border: var(--sklearn-color-fitted-level-3);\n",
       "}\n",
       "\n",
       ".sk-estimator-doc-link:hover span {\n",
       "  display: block;\n",
       "}\n",
       "\n",
       "/* \"?\"-specific style due to the `<a>` HTML tag */\n",
       "\n",
       "#sk-container-id-1 a.estimator_doc_link {\n",
       "  float: right;\n",
       "  font-size: 1rem;\n",
       "  line-height: 1em;\n",
       "  font-family: monospace;\n",
       "  background-color: var(--sklearn-color-background);\n",
       "  border-radius: 1rem;\n",
       "  height: 1rem;\n",
       "  width: 1rem;\n",
       "  text-decoration: none;\n",
       "  /* unfitted */\n",
       "  color: var(--sklearn-color-unfitted-level-1);\n",
       "  border: var(--sklearn-color-unfitted-level-1) 1pt solid;\n",
       "}\n",
       "\n",
       "#sk-container-id-1 a.estimator_doc_link.fitted {\n",
       "  /* fitted */\n",
       "  border: var(--sklearn-color-fitted-level-1) 1pt solid;\n",
       "  color: var(--sklearn-color-fitted-level-1);\n",
       "}\n",
       "\n",
       "/* On hover */\n",
       "#sk-container-id-1 a.estimator_doc_link:hover {\n",
       "  /* unfitted */\n",
       "  background-color: var(--sklearn-color-unfitted-level-3);\n",
       "  color: var(--sklearn-color-background);\n",
       "  text-decoration: none;\n",
       "}\n",
       "\n",
       "#sk-container-id-1 a.estimator_doc_link.fitted:hover {\n",
       "  /* fitted */\n",
       "  background-color: var(--sklearn-color-fitted-level-3);\n",
       "}\n",
       "</style><div id=\"sk-container-id-1\" class=\"sk-top-container\"><div class=\"sk-text-repr-fallback\"><pre>LogisticRegression(max_iter=1500, random_state=42)</pre><b>In a Jupyter environment, please rerun this cell to show the HTML representation or trust the notebook. <br />On GitHub, the HTML representation is unable to render, please try loading this page with nbviewer.org.</b></div><div class=\"sk-container\" hidden><div class=\"sk-item\"><div class=\"sk-estimator fitted sk-toggleable\"><input class=\"sk-toggleable__control sk-hidden--visually\" id=\"sk-estimator-id-1\" type=\"checkbox\" checked><label for=\"sk-estimator-id-1\" class=\"sk-toggleable__label fitted sk-toggleable__label-arrow\"><div><div>LogisticRegression</div></div><div><a class=\"sk-estimator-doc-link fitted\" rel=\"noreferrer\" target=\"_blank\" href=\"https://scikit-learn.org/1.6/modules/generated/sklearn.linear_model.LogisticRegression.html\">?<span>Documentation for LogisticRegression</span></a><span class=\"sk-estimator-doc-link fitted\">i<span>Fitted</span></span></div></label><div class=\"sk-toggleable__content fitted\"><pre>LogisticRegression(max_iter=1500, random_state=42)</pre></div> </div></div></div></div>"
      ],
      "text/plain": [
       "LogisticRegression(max_iter=1500, random_state=42)"
      ]
     },
     "execution_count": 18,
     "metadata": {},
     "output_type": "execute_result"
    }
   ],
   "source": [
    "# here we train the model on the training data\n",
    "lr_model.fit(X=X_train, y=y_train)"
   ]
  },
  {
   "cell_type": "code",
   "execution_count": 22,
   "metadata": {},
   "outputs": [
    {
     "data": {
      "application/vnd.microsoft.datawrangler.viewer.v0+json": {
       "columns": [
        {
         "name": "index",
         "rawType": "object",
         "type": "string"
        },
        {
         "name": "y_test_DDoS",
         "rawType": "object",
         "type": "unknown"
        },
        {
         "name": "y_test_Intrusion",
         "rawType": "object",
         "type": "unknown"
        },
        {
         "name": "y_test_Malware",
         "rawType": "object",
         "type": "unknown"
        }
       ],
       "conversionMethod": "pd.DataFrame",
       "ref": "26afc87d-8007-4d86-b5b3-49c18ae6a12a",
       "rows": [
        [
         "y_predicted_DDoS",
         "1126",
         "625",
         "885"
        ],
        [
         "y_predicted_Intrusion",
         "1120",
         "657",
         "944"
        ],
        [
         "y_predicted_Malware",
         "1033",
         "643",
         "967"
        ]
       ],
       "shape": {
        "columns": 3,
        "rows": 3
       }
      },
      "text/html": [
       "<div>\n",
       "<style scoped>\n",
       "    .dataframe tbody tr th:only-of-type {\n",
       "        vertical-align: middle;\n",
       "    }\n",
       "\n",
       "    .dataframe tbody tr th {\n",
       "        vertical-align: top;\n",
       "    }\n",
       "\n",
       "    .dataframe thead th {\n",
       "        text-align: right;\n",
       "    }\n",
       "</style>\n",
       "<table border=\"1\" class=\"dataframe\">\n",
       "  <thead>\n",
       "    <tr style=\"text-align: right;\">\n",
       "      <th></th>\n",
       "      <th>y_test_DDoS</th>\n",
       "      <th>y_test_Intrusion</th>\n",
       "      <th>y_test_Malware</th>\n",
       "    </tr>\n",
       "  </thead>\n",
       "  <tbody>\n",
       "    <tr>\n",
       "      <th>y_predicted_DDoS</th>\n",
       "      <td>1126</td>\n",
       "      <td>625</td>\n",
       "      <td>885</td>\n",
       "    </tr>\n",
       "    <tr>\n",
       "      <th>y_predicted_Intrusion</th>\n",
       "      <td>1120</td>\n",
       "      <td>657</td>\n",
       "      <td>944</td>\n",
       "    </tr>\n",
       "    <tr>\n",
       "      <th>y_predicted_Malware</th>\n",
       "      <td>1033</td>\n",
       "      <td>643</td>\n",
       "      <td>967</td>\n",
       "    </tr>\n",
       "  </tbody>\n",
       "</table>\n",
       "</div>"
      ],
      "text/plain": [
       "                      y_test_DDoS y_test_Intrusion y_test_Malware\n",
       "y_predicted_DDoS             1126              625            885\n",
       "y_predicted_Intrusion        1120              657            944\n",
       "y_predicted_Malware          1033              643            967"
      ]
     },
     "execution_count": 22,
     "metadata": {},
     "output_type": "execute_result"
    }
   ],
   "source": [
    "cf = pd.DataFrame(\n",
    "    columns=[\"y_test_DDoS\",\"y_test_Intrusion\",\"y_test_Malware\"],index=[\"y_predicted_DDoS\",\"y_predicted_Intrusion\",\"y_predicted_Malware\"]\n",
    ")\n",
    "\n",
    "cf.loc[:,:] = confusion_matrix(y_true= y_test,y_pred= y_test_predicted)\n",
    "cf"
   ]
  },
  {
   "cell_type": "code",
   "execution_count": 23,
   "metadata": {},
   "outputs": [
    {
     "data": {
      "application/vnd.microsoft.datawrangler.viewer.v0+json": {
       "columns": [
        {
         "name": "index",
         "rawType": "object",
         "type": "string"
        },
        {
         "name": "y_test_DDoS",
         "rawType": "object",
         "type": "unknown"
        },
        {
         "name": "y_test_Intrusion",
         "rawType": "object",
         "type": "unknown"
        },
        {
         "name": "y_test_Malware",
         "rawType": "object",
         "type": "unknown"
        }
       ],
       "conversionMethod": "pd.DataFrame",
       "ref": "affbb986-6cee-4173-bf95-7e0557e1d20c",
       "rows": [
        [
         "y_predicted_DDoS",
         "0.14075",
         "0.078125",
         "0.110625"
        ],
        [
         "y_predicted_Intrusion",
         "0.14",
         "0.082125",
         "0.118"
        ],
        [
         "y_predicted_Malware",
         "0.129125",
         "0.080375",
         "0.120875"
        ]
       ],
       "shape": {
        "columns": 3,
        "rows": 3
       }
      },
      "text/html": [
       "<div>\n",
       "<style scoped>\n",
       "    .dataframe tbody tr th:only-of-type {\n",
       "        vertical-align: middle;\n",
       "    }\n",
       "\n",
       "    .dataframe tbody tr th {\n",
       "        vertical-align: top;\n",
       "    }\n",
       "\n",
       "    .dataframe thead th {\n",
       "        text-align: right;\n",
       "    }\n",
       "</style>\n",
       "<table border=\"1\" class=\"dataframe\">\n",
       "  <thead>\n",
       "    <tr style=\"text-align: right;\">\n",
       "      <th></th>\n",
       "      <th>y_test_DDoS</th>\n",
       "      <th>y_test_Intrusion</th>\n",
       "      <th>y_test_Malware</th>\n",
       "    </tr>\n",
       "  </thead>\n",
       "  <tbody>\n",
       "    <tr>\n",
       "      <th>y_predicted_DDoS</th>\n",
       "      <td>0.14075</td>\n",
       "      <td>0.078125</td>\n",
       "      <td>0.110625</td>\n",
       "    </tr>\n",
       "    <tr>\n",
       "      <th>y_predicted_Intrusion</th>\n",
       "      <td>0.14</td>\n",
       "      <td>0.082125</td>\n",
       "      <td>0.118</td>\n",
       "    </tr>\n",
       "    <tr>\n",
       "      <th>y_predicted_Malware</th>\n",
       "      <td>0.129125</td>\n",
       "      <td>0.080375</td>\n",
       "      <td>0.120875</td>\n",
       "    </tr>\n",
       "  </tbody>\n",
       "</table>\n",
       "</div>"
      ],
      "text/plain": [
       "                      y_test_DDoS y_test_Intrusion y_test_Malware\n",
       "y_predicted_DDoS          0.14075         0.078125       0.110625\n",
       "y_predicted_Intrusion        0.14         0.082125          0.118\n",
       "y_predicted_Malware      0.129125         0.080375       0.120875"
      ]
     },
     "execution_count": 23,
     "metadata": {},
     "output_type": "execute_result"
    }
   ],
   "source": [
    "cf/len(y_test)"
   ]
  },
  {
   "cell_type": "code",
   "execution_count": 24,
   "metadata": {},
   "outputs": [
    {
     "name": "stdout",
     "output_type": "stream",
     "text": [
      "              precision    recall  f1-score   support\n",
      "\n",
      "        DDoS       0.34      0.43      0.38      2636\n",
      "   Intrusion       0.34      0.24      0.28      2721\n",
      "     Malware       0.35      0.37      0.36      2643\n",
      "\n",
      "    accuracy                           0.34      8000\n",
      "   macro avg       0.34      0.34      0.34      8000\n",
      "weighted avg       0.34      0.34      0.34      8000\n",
      "\n"
     ]
    }
   ],
   "source": [
    "report =classification_report(y_true=y_test, y_pred=y_test_predicted)\n",
    "print(report)"
   ]
  },
  {
   "cell_type": "markdown",
   "metadata": {},
   "source": [
    "## Decision Tree Classifier"
   ]
  },
  {
   "cell_type": "code",
   "execution_count": 30,
   "metadata": {},
   "outputs": [
    {
     "data": {
      "application/vnd.microsoft.datawrangler.viewer.v0+json": {
       "columns": [
        {
         "name": "index",
         "rawType": "object",
         "type": "string"
        },
        {
         "name": "y_test_DDoS",
         "rawType": "object",
         "type": "unknown"
        },
        {
         "name": "y_test_Intrusion",
         "rawType": "object",
         "type": "unknown"
        },
        {
         "name": "y_test_Malware",
         "rawType": "object",
         "type": "unknown"
        }
       ],
       "conversionMethod": "pd.DataFrame",
       "ref": "8d6e1893-42f5-40b4-acd2-0b65c6427878",
       "rows": [
        [
         "y_predicted_DDoS",
         "861",
         "900",
         "875"
        ],
        [
         "y_predicted_Intrusion",
         "879",
         "935",
         "907"
        ],
        [
         "y_predicted_Malware",
         "905",
         "848",
         "890"
        ]
       ],
       "shape": {
        "columns": 3,
        "rows": 3
       }
      },
      "text/html": [
       "<div>\n",
       "<style scoped>\n",
       "    .dataframe tbody tr th:only-of-type {\n",
       "        vertical-align: middle;\n",
       "    }\n",
       "\n",
       "    .dataframe tbody tr th {\n",
       "        vertical-align: top;\n",
       "    }\n",
       "\n",
       "    .dataframe thead th {\n",
       "        text-align: right;\n",
       "    }\n",
       "</style>\n",
       "<table border=\"1\" class=\"dataframe\">\n",
       "  <thead>\n",
       "    <tr style=\"text-align: right;\">\n",
       "      <th></th>\n",
       "      <th>y_test_DDoS</th>\n",
       "      <th>y_test_Intrusion</th>\n",
       "      <th>y_test_Malware</th>\n",
       "    </tr>\n",
       "  </thead>\n",
       "  <tbody>\n",
       "    <tr>\n",
       "      <th>y_predicted_DDoS</th>\n",
       "      <td>861</td>\n",
       "      <td>900</td>\n",
       "      <td>875</td>\n",
       "    </tr>\n",
       "    <tr>\n",
       "      <th>y_predicted_Intrusion</th>\n",
       "      <td>879</td>\n",
       "      <td>935</td>\n",
       "      <td>907</td>\n",
       "    </tr>\n",
       "    <tr>\n",
       "      <th>y_predicted_Malware</th>\n",
       "      <td>905</td>\n",
       "      <td>848</td>\n",
       "      <td>890</td>\n",
       "    </tr>\n",
       "  </tbody>\n",
       "</table>\n",
       "</div>"
      ],
      "text/plain": [
       "                      y_test_DDoS y_test_Intrusion y_test_Malware\n",
       "y_predicted_DDoS              861              900            875\n",
       "y_predicted_Intrusion         879              935            907\n",
       "y_predicted_Malware           905              848            890"
      ]
     },
     "execution_count": 30,
     "metadata": {},
     "output_type": "execute_result"
    }
   ],
   "source": [
    "dt_model = DecisionTreeClassifier(random_state=42)\n",
    "\n",
    "dt_model.fit(X=X_train,y=y_train)\n",
    "\n",
    "y_test_predicted_dt = dt_model.predict(x_test)\n",
    "\n",
    "cf_dt = pd.DataFrame(\n",
    "    columns=[\"y_test_DDoS\",\"y_test_Intrusion\",\"y_test_Malware\"],index=[\"y_predicted_DDoS\",\"y_predicted_Intrusion\",\"y_predicted_Malware\"]\n",
    ")\n",
    "cf_dt.loc[:,:] = confusion_matrix(y_true= y_test,y_pred= y_test_predicted_dt)\n",
    "cf_dt"
   ]
  },
  {
   "cell_type": "code",
   "execution_count": null,
   "metadata": {},
   "outputs": [],
   "source": []
  },
  {
   "cell_type": "code",
   "execution_count": 31,
   "metadata": {},
   "outputs": [
    {
     "name": "stdout",
     "output_type": "stream",
     "text": [
      "              precision    recall  f1-score   support\n",
      "\n",
      "        DDoS       0.33      0.33      0.33      2636\n",
      "   Intrusion       0.35      0.34      0.35      2721\n",
      "     Malware       0.33      0.34      0.33      2643\n",
      "\n",
      "    accuracy                           0.34      8000\n",
      "   macro avg       0.34      0.34      0.34      8000\n",
      "weighted avg       0.34      0.34      0.34      8000\n",
      "\n"
     ]
    }
   ],
   "source": [
    "report_dt = classification_report(y_pred=y_test_predicted_dt,y_true=y_test)\n",
    "print(report_dt)"
   ]
  },
  {
   "cell_type": "markdown",
   "metadata": {},
   "source": [
    "## Random forest classifier"
   ]
  },
  {
   "cell_type": "code",
   "execution_count": 32,
   "metadata": {},
   "outputs": [],
   "source": [
    "rf_model = RandomForestClassifier(n_estimators=100, random_state=42)\n",
    "rf_model.fit(X=X_train,y=y_train)\n",
    "y_test_predicted_rf = rf_model.predict(x_test)"
   ]
  },
  {
   "cell_type": "code",
   "execution_count": 33,
   "metadata": {},
   "outputs": [
    {
     "name": "stdout",
     "output_type": "stream",
     "text": [
      "Confusion Matrix:\n",
      " [[907 844 885]\n",
      " [935 873 913]\n",
      " [903 851 889]]\n"
     ]
    }
   ],
   "source": [
    "## confusion matrix for Random Forest\n",
    "cm = confusion_matrix(y_true=y_test,y_pred=y_test_predicted_rf)\n",
    "print(\"Confusion Matrix:\\n\", cm)"
   ]
  },
  {
   "cell_type": "code",
   "execution_count": 34,
   "metadata": {},
   "outputs": [
    {
     "name": "stdout",
     "output_type": "stream",
     "text": [
      "           DDoS  Intrusion  Malware\n",
      "DDoS        907        844      885\n",
      "Intrusion   935        873      913\n",
      "Malware     903        851      889\n"
     ]
    }
   ],
   "source": [
    "confusion_matrix_df = pd.DataFrame(cm, index=[\"DDoS\", \"Intrusion\", \"Malware\"], columns=[\"DDoS\", \"Intrusion\", \"Malware\"])\n",
    "print(confusion_matrix_df)"
   ]
  },
  {
   "cell_type": "code",
   "execution_count": 35,
   "metadata": {},
   "outputs": [
    {
     "name": "stdout",
     "output_type": "stream",
     "text": [
      "              precision    recall  f1-score   support\n",
      "\n",
      "        DDoS       0.33      0.34      0.34      2636\n",
      "   Intrusion       0.34      0.32      0.33      2721\n",
      "     Malware       0.33      0.34      0.33      2643\n",
      "\n",
      "    accuracy                           0.33      8000\n",
      "   macro avg       0.33      0.33      0.33      8000\n",
      "weighted avg       0.33      0.33      0.33      8000\n",
      "\n"
     ]
    }
   ],
   "source": [
    "report_rf = classification_report(y_true=y_test, y_pred=y_test_predicted_rf)\n",
    "print(report_rf)"
   ]
  },
  {
   "cell_type": "code",
   "execution_count": 37,
   "metadata": {},
   "outputs": [
    {
     "name": "stdout",
     "output_type": "stream",
     "text": [
      "Cross-Validation Accuracy:  0.33196875\n",
      "Cross-Validation Standard Deviation:  0.008265964666933917\n"
     ]
    }
   ],
   "source": [
    "# Cross-Validation Accuracy\n",
    "cv_scores = cross_val_score(rf_model, X_train, y_train, cv=5)\n",
    "print(\"Cross-Validation Accuracy: \", cv_scores.mean())  \n",
    "print(\"Cross-Validation Standard Deviation: \", cv_scores.std())"
   ]
  },
  {
   "cell_type": "code",
   "execution_count": null,
   "metadata": {},
   "outputs": [],
   "source": [
    "# check feature importance\n",
    "feature_importances = pd.DataFrame({'Feature': features, 'Importance': rf_model.feature_importances_})\n",
    "print(feature_importances.sort_values(by='Importance', ascending=False))"
   ]
  },
  {
   "cell_type": "markdown",
   "metadata": {},
   "source": [
    "## naives bayes "
   ]
  },
  {
   "cell_type": "code",
   "execution_count": null,
   "metadata": {},
   "outputs": [
    {
     "name": "stdout",
     "output_type": "stream",
     "text": [
      "           DDoS  Intrusion  Malware\n",
      "DDoS        798        854      984\n",
      "Intrusion   809        871     1041\n",
      "Malware     734        872     1037\n"
     ]
    }
   ],
   "source": [
    "model = GaussianNB()\n",
    "model.fit(X=X_train,y=y_train)\n",
    "y_test_predicted_gnb = model.predict(x_test)\n",
    "cm_gnb = confusion_matrix(y_true=y_test,y_pred=y_test_predicted_gnb)\n",
    "cm_gnb_df = pd.DataFrame(cm_gnb, index=[\"DDoS\", \"Intrusion\", \"Malware\"], columns=[\"DDoS\", \"Intrusion\", \"Malware\"])\n",
    "print(cm_gnb_df)"
   ]
  },
  {
   "cell_type": "code",
   "execution_count": 46,
   "metadata": {},
   "outputs": [
    {
     "name": "stdout",
     "output_type": "stream",
     "text": [
      "              precision    recall  f1-score   support\n",
      "\n",
      "        DDoS       0.34      0.30      0.32      2636\n",
      "   Intrusion       0.34      0.32      0.33      2721\n",
      "     Malware       0.34      0.39      0.36      2643\n",
      "\n",
      "    accuracy                           0.34      8000\n",
      "   macro avg       0.34      0.34      0.34      8000\n",
      "weighted avg       0.34      0.34      0.34      8000\n",
      "\n"
     ]
    }
   ],
   "source": [
    "#report for GaussianNB\n",
    "report_gnb = classification_report(y_true=y_test, y_pred=y_test_predicted_gnb)\n",
    "print(report_gnb)"
   ]
  },
  {
   "cell_type": "code",
   "execution_count": 47,
   "metadata": {},
   "outputs": [
    {
     "name": "stdout",
     "output_type": "stream",
     "text": [
      "Cross-Validation Accuracy for GaussianNB:  0.3296875\n"
     ]
    }
   ],
   "source": [
    "\n",
    "# Cross-Validation Accuracy for GaussianNB  \n",
    "cv_scores_gnb = cross_val_score(model, X_train, y_train, cv=5)\n",
    "print(\"Cross-Validation Accuracy for GaussianNB: \", cv_scores_gnb.mean())"
   ]
  },
  {
   "cell_type": "markdown",
   "metadata": {},
   "source": [
    "## SGD classifier"
   ]
  },
  {
   "cell_type": "code",
   "execution_count": 52,
   "metadata": {},
   "outputs": [],
   "source": [
    "clf =  GradientBoostingClassifier(loss=\"log_loss\", random_state=42)\n",
    "clf.fit(X=X_train,y=y_train)\n",
    "y_test_predicted_gbc = clf.predict(x_test)\n"
   ]
  },
  {
   "cell_type": "code",
   "execution_count": 53,
   "metadata": {},
   "outputs": [
    {
     "name": "stdout",
     "output_type": "stream",
     "text": [
      "              precision    recall  f1-score   support\n",
      "\n",
      "        DDoS       0.34      0.42      0.37      2636\n",
      "   Intrusion       0.34      0.25      0.29      2721\n",
      "     Malware       0.33      0.34      0.34      2643\n",
      "\n",
      "    accuracy                           0.34      8000\n",
      "   macro avg       0.34      0.34      0.33      8000\n",
      "weighted avg       0.34      0.34      0.33      8000\n",
      "\n"
     ]
    }
   ],
   "source": [
    "report_gbc = classification_report(y_true=y_test, y_pred=y_test_predicted_gbc)\n",
    "print(report_gbc)   "
   ]
  },
  {
   "cell_type": "markdown",
   "metadata": {},
   "source": [
    "## Xgboost"
   ]
  },
  {
   "cell_type": "code",
   "execution_count": 42,
   "metadata": {},
   "outputs": [
    {
     "name": "stdout",
     "output_type": "stream",
     "text": [
      "Confusion Matrix:\n",
      " [[946 782 908]\n",
      " [979 818 924]\n",
      " [987 779 877]]\n"
     ]
    }
   ],
   "source": [
    "# Encode target variable\n",
    "from sklearn.preprocessing import LabelEncoder\n",
    "\n",
    "label_encoder = LabelEncoder()\n",
    "y_train_encoded = label_encoder.fit_transform(y_train)\n",
    "y_test_encoded = label_encoder.transform(y_test)\n",
    "\n",
    "# Train XGBoost Model\n",
    "xgb_model = xgb.XGBClassifier(n_estimators=100, max_depth=6, learning_rate=0.1, random_state=42)\n",
    "xgb_model.fit(X=X_train, y=y_train_encoded)\n",
    "y_test_predicted_xgb = xgb_model.predict(x_test)\n",
    "\n",
    "# Decode predictions back to original labels\n",
    "y_test_predicted_xgb_decoded = label_encoder.inverse_transform(y_test_predicted_xgb)\n",
    "\n",
    "# Confusion matrix\n",
    "cm_xgb = confusion_matrix(y_true=y_test, y_pred=y_test_predicted_xgb_decoded)\n",
    "print(\"Confusion Matrix:\\n\", cm_xgb)"
   ]
  },
  {
   "cell_type": "code",
   "execution_count": 43,
   "metadata": {},
   "outputs": [
    {
     "name": "stdout",
     "output_type": "stream",
     "text": [
      "              precision    recall  f1-score   support\n",
      "\n",
      "        DDoS       0.32      0.36      0.34      2636\n",
      "   Intrusion       0.34      0.30      0.32      2721\n",
      "     Malware       0.32      0.33      0.33      2643\n",
      "\n",
      "    accuracy                           0.33      8000\n",
      "   macro avg       0.33      0.33      0.33      8000\n",
      "weighted avg       0.33      0.33      0.33      8000\n",
      "\n"
     ]
    }
   ],
   "source": [
    "#report for XGBoost\n",
    "report_xgb = classification_report(y_true=y_test, y_pred=y_test_predicted_xgb_decoded)\n",
    "print(report_xgb)"
   ]
  },
  {
   "cell_type": "markdown",
   "metadata": {},
   "source": [
    "# model amelioration - Fine turning "
   ]
  }
 ],
 "metadata": {
  "kernelspec": {
   "display_name": "Python 3",
   "language": "python",
   "name": "python3"
  },
  "language_info": {
   "codemirror_mode": {
    "name": "ipython",
    "version": 3
   },
   "file_extension": ".py",
   "mimetype": "text/x-python",
   "name": "python",
   "nbconvert_exporter": "python",
   "pygments_lexer": "ipython3",
   "version": "3.12.3"
  }
 },
 "nbformat": 4,
 "nbformat_minor": 2
}
